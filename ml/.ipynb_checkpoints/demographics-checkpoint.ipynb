{
 "cells": [
  {
   "cell_type": "markdown",
   "metadata": {
    "_cell_guid": "77e09526-6c13-4e92-9806-798aff7cab41",
    "_uuid": "b3d586b8aa5401ff796f9d39ef5b6c46a5428d09"
   },
   "source": [
    "# Exploratory Data Analysis"
   ]
  },
  {
   "cell_type": "markdown",
   "metadata": {
    "_cell_guid": "cd4df46f-f2be-4102-a03f-d9f1b4797439",
    "_uuid": "d065acb6c5762300e41b06d781c0f76fba67cee6"
   },
   "source": [
    "The dataset above was obtained through the TMDB API. The movies available in this dataset are in correspondence with the movies that are listed in the MovieLens Latest Full Dataset comprising of 26 million ratings on 45,000 movies from 27,000 users. Let us have a look at the features that are available to us.\n",
    "\n",
    "We will analyze the various features of the dataset to understand the distribution and relationnship of certain variables of importance."
   ]
  },
  {
   "cell_type": "markdown",
   "metadata": {
    "_cell_guid": "32c2e348-6023-4595-8d0c-20742a4346e1",
    "_uuid": "4c403868e5bfae712849cc403b1cb6f9b63e5ac6"
   },
   "source": [
    "## Importing Libraries and Loading Our Data"
   ]
  },
  {
   "cell_type": "code",
   "execution_count": 1,
   "metadata": {
    "_cell_guid": "7da7ec20-ba9f-4806-bf4b-dfd36f1e308b",
    "_uuid": "d2b3e1bc447f0b359d863af1de61e56f4e2c8e26"
   },
   "outputs": [
    {
     "data": {
      "text/html": [
       "        <script type=\"text/javascript\">\n",
       "        window.PlotlyConfig = {MathJaxConfig: 'local'};\n",
       "        if (window.MathJax) {MathJax.Hub.Config({SVG: {font: \"STIX-Web\"}});}\n",
       "        if (typeof require !== 'undefined') {\n",
       "        require.undef(\"plotly\");\n",
       "        requirejs.config({\n",
       "            paths: {\n",
       "                'plotly': ['https://cdn.plot.ly/plotly-latest.min']\n",
       "            }\n",
       "        });\n",
       "        require(['plotly'], function(Plotly) {\n",
       "            window._Plotly = Plotly;\n",
       "        });\n",
       "        }\n",
       "        </script>\n",
       "        "
      ]
     },
     "metadata": {},
     "output_type": "display_data"
    }
   ],
   "source": [
    "%matplotlib inline\n",
    "from IPython.display import Image, HTML\n",
    "import json\n",
    "import datetime\n",
    "import ast\n",
    "import pandas as pd\n",
    "import matplotlib.pyplot as plt\n",
    "import seaborn as sns\n",
    "import numpy as np\n",
    "from scipy import stats\n",
    "from wordcloud import WordCloud, STOPWORDS\n",
    "\n",
    "# Plotly\n",
    "import plotly\n",
    "import plotly.offline as py\n",
    "py.init_notebook_mode(connected=True)\n",
    "import plotly.graph_objs as go\n",
    "import plotly.tools as tls\n",
    "plotly.tools.set_credentials_file(username='rounakbanik', api_key='xTLaHBy9MVv5szF4Pwan')\n",
    "\n",
    "from datetime import datetime\n",
    "from dateutil.relativedelta import relativedelta\n",
    "\n",
    "sns.set_style('whitegrid')\n",
    "sns.set(font_scale=1.25)\n",
    "pd.set_option('display.max_colwidth', 50)"
   ]
  },
  {
   "cell_type": "code",
   "execution_count": 2,
   "metadata": {
    "_cell_guid": "802ba741-2c66-420c-bd74-afc45a49a4c1",
    "_uuid": "930e0aa58d8c885194b3c84e61e4e2393f87a675"
   },
   "outputs": [
    {
     "name": "stderr",
     "output_type": "stream",
     "text": [
      "/home/clinton/anaconda3/lib/python3.7/site-packages/IPython/core/interactiveshell.py:3063: DtypeWarning:\n",
      "\n",
      "Columns (10) have mixed types. Specify dtype option on import or set low_memory=False.\n",
      "\n"
     ]
    },
    {
     "data": {
      "text/html": [
       "<div>\n",
       "<style scoped>\n",
       "    .dataframe tbody tr th:only-of-type {\n",
       "        vertical-align: middle;\n",
       "    }\n",
       "\n",
       "    .dataframe tbody tr th {\n",
       "        vertical-align: top;\n",
       "    }\n",
       "\n",
       "    .dataframe thead th {\n",
       "        text-align: right;\n",
       "    }\n",
       "</style>\n",
       "<table border=\"1\" class=\"dataframe\">\n",
       "  <thead>\n",
       "    <tr style=\"text-align: right;\">\n",
       "      <th></th>\n",
       "      <th>0</th>\n",
       "      <th>1</th>\n",
       "      <th>2</th>\n",
       "      <th>3</th>\n",
       "      <th>4</th>\n",
       "    </tr>\n",
       "  </thead>\n",
       "  <tbody>\n",
       "    <tr>\n",
       "      <th>adult</th>\n",
       "      <td>False</td>\n",
       "      <td>False</td>\n",
       "      <td>False</td>\n",
       "      <td>False</td>\n",
       "      <td>False</td>\n",
       "    </tr>\n",
       "    <tr>\n",
       "      <th>belongs_to_collection</th>\n",
       "      <td>{'id': 10194, 'name': 'Toy Story Collection', ...</td>\n",
       "      <td>NaN</td>\n",
       "      <td>{'id': 119050, 'name': 'Grumpy Old Men Collect...</td>\n",
       "      <td>NaN</td>\n",
       "      <td>{'id': 96871, 'name': 'Father of the Bride Col...</td>\n",
       "    </tr>\n",
       "    <tr>\n",
       "      <th>budget</th>\n",
       "      <td>30000000</td>\n",
       "      <td>65000000</td>\n",
       "      <td>0</td>\n",
       "      <td>16000000</td>\n",
       "      <td>0</td>\n",
       "    </tr>\n",
       "    <tr>\n",
       "      <th>genres</th>\n",
       "      <td>[{'id': 16, 'name': 'Animation'}, {'id': 35, '...</td>\n",
       "      <td>[{'id': 12, 'name': 'Adventure'}, {'id': 14, '...</td>\n",
       "      <td>[{'id': 10749, 'name': 'Romance'}, {'id': 35, ...</td>\n",
       "      <td>[{'id': 35, 'name': 'Comedy'}, {'id': 18, 'nam...</td>\n",
       "      <td>[{'id': 35, 'name': 'Comedy'}]</td>\n",
       "    </tr>\n",
       "    <tr>\n",
       "      <th>homepage</th>\n",
       "      <td>http://toystory.disney.com/toy-story</td>\n",
       "      <td>NaN</td>\n",
       "      <td>NaN</td>\n",
       "      <td>NaN</td>\n",
       "      <td>NaN</td>\n",
       "    </tr>\n",
       "    <tr>\n",
       "      <th>id</th>\n",
       "      <td>862</td>\n",
       "      <td>8844</td>\n",
       "      <td>15602</td>\n",
       "      <td>31357</td>\n",
       "      <td>11862</td>\n",
       "    </tr>\n",
       "    <tr>\n",
       "      <th>imdb_id</th>\n",
       "      <td>tt0114709</td>\n",
       "      <td>tt0113497</td>\n",
       "      <td>tt0113228</td>\n",
       "      <td>tt0114885</td>\n",
       "      <td>tt0113041</td>\n",
       "    </tr>\n",
       "    <tr>\n",
       "      <th>original_language</th>\n",
       "      <td>en</td>\n",
       "      <td>en</td>\n",
       "      <td>en</td>\n",
       "      <td>en</td>\n",
       "      <td>en</td>\n",
       "    </tr>\n",
       "    <tr>\n",
       "      <th>original_title</th>\n",
       "      <td>Toy Story</td>\n",
       "      <td>Jumanji</td>\n",
       "      <td>Grumpier Old Men</td>\n",
       "      <td>Waiting to Exhale</td>\n",
       "      <td>Father of the Bride Part II</td>\n",
       "    </tr>\n",
       "    <tr>\n",
       "      <th>overview</th>\n",
       "      <td>Led by Woody, Andy's toys live happily in his ...</td>\n",
       "      <td>When siblings Judy and Peter discover an encha...</td>\n",
       "      <td>A family wedding reignites the ancient feud be...</td>\n",
       "      <td>Cheated on, mistreated and stepped on, the wom...</td>\n",
       "      <td>Just when George Banks has recovered from his ...</td>\n",
       "    </tr>\n",
       "    <tr>\n",
       "      <th>popularity</th>\n",
       "      <td>21.9469</td>\n",
       "      <td>17.0155</td>\n",
       "      <td>11.7129</td>\n",
       "      <td>3.85949</td>\n",
       "      <td>8.38752</td>\n",
       "    </tr>\n",
       "    <tr>\n",
       "      <th>poster_path</th>\n",
       "      <td>/rhIRbceoE9lR4veEXuwCC2wARtG.jpg</td>\n",
       "      <td>/vzmL6fP7aPKNKPRTFnZmiUfciyV.jpg</td>\n",
       "      <td>/6ksm1sjKMFLbO7UY2i6G1ju9SML.jpg</td>\n",
       "      <td>/16XOMpEaLWkrcPqSQqhTmeJuqQl.jpg</td>\n",
       "      <td>/e64sOI48hQXyru7naBFyssKFxVd.jpg</td>\n",
       "    </tr>\n",
       "    <tr>\n",
       "      <th>production_companies</th>\n",
       "      <td>[{'name': 'Pixar Animation Studios', 'id': 3}]</td>\n",
       "      <td>[{'name': 'TriStar Pictures', 'id': 559}, {'na...</td>\n",
       "      <td>[{'name': 'Warner Bros.', 'id': 6194}, {'name'...</td>\n",
       "      <td>[{'name': 'Twentieth Century Fox Film Corporat...</td>\n",
       "      <td>[{'name': 'Sandollar Productions', 'id': 5842}...</td>\n",
       "    </tr>\n",
       "    <tr>\n",
       "      <th>production_countries</th>\n",
       "      <td>[{'iso_3166_1': 'US', 'name': 'United States o...</td>\n",
       "      <td>[{'iso_3166_1': 'US', 'name': 'United States o...</td>\n",
       "      <td>[{'iso_3166_1': 'US', 'name': 'United States o...</td>\n",
       "      <td>[{'iso_3166_1': 'US', 'name': 'United States o...</td>\n",
       "      <td>[{'iso_3166_1': 'US', 'name': 'United States o...</td>\n",
       "    </tr>\n",
       "    <tr>\n",
       "      <th>release_date</th>\n",
       "      <td>1995-10-30</td>\n",
       "      <td>1995-12-15</td>\n",
       "      <td>1995-12-22</td>\n",
       "      <td>1995-12-22</td>\n",
       "      <td>1995-02-10</td>\n",
       "    </tr>\n",
       "    <tr>\n",
       "      <th>revenue</th>\n",
       "      <td>3.73554e+08</td>\n",
       "      <td>2.62797e+08</td>\n",
       "      <td>0</td>\n",
       "      <td>8.14522e+07</td>\n",
       "      <td>7.65789e+07</td>\n",
       "    </tr>\n",
       "    <tr>\n",
       "      <th>runtime</th>\n",
       "      <td>81</td>\n",
       "      <td>104</td>\n",
       "      <td>101</td>\n",
       "      <td>127</td>\n",
       "      <td>106</td>\n",
       "    </tr>\n",
       "    <tr>\n",
       "      <th>spoken_languages</th>\n",
       "      <td>[{'iso_639_1': 'en', 'name': 'English'}]</td>\n",
       "      <td>[{'iso_639_1': 'en', 'name': 'English'}, {'iso...</td>\n",
       "      <td>[{'iso_639_1': 'en', 'name': 'English'}]</td>\n",
       "      <td>[{'iso_639_1': 'en', 'name': 'English'}]</td>\n",
       "      <td>[{'iso_639_1': 'en', 'name': 'English'}]</td>\n",
       "    </tr>\n",
       "    <tr>\n",
       "      <th>status</th>\n",
       "      <td>Released</td>\n",
       "      <td>Released</td>\n",
       "      <td>Released</td>\n",
       "      <td>Released</td>\n",
       "      <td>Released</td>\n",
       "    </tr>\n",
       "    <tr>\n",
       "      <th>tagline</th>\n",
       "      <td>NaN</td>\n",
       "      <td>Roll the dice and unleash the excitement!</td>\n",
       "      <td>Still Yelling. Still Fighting. Still Ready for...</td>\n",
       "      <td>Friends are the people who let you be yourself...</td>\n",
       "      <td>Just When His World Is Back To Normal... He's ...</td>\n",
       "    </tr>\n",
       "    <tr>\n",
       "      <th>title</th>\n",
       "      <td>Toy Story</td>\n",
       "      <td>Jumanji</td>\n",
       "      <td>Grumpier Old Men</td>\n",
       "      <td>Waiting to Exhale</td>\n",
       "      <td>Father of the Bride Part II</td>\n",
       "    </tr>\n",
       "    <tr>\n",
       "      <th>video</th>\n",
       "      <td>False</td>\n",
       "      <td>False</td>\n",
       "      <td>False</td>\n",
       "      <td>False</td>\n",
       "      <td>False</td>\n",
       "    </tr>\n",
       "    <tr>\n",
       "      <th>vote_average</th>\n",
       "      <td>7.7</td>\n",
       "      <td>6.9</td>\n",
       "      <td>6.5</td>\n",
       "      <td>6.1</td>\n",
       "      <td>5.7</td>\n",
       "    </tr>\n",
       "    <tr>\n",
       "      <th>vote_count</th>\n",
       "      <td>5415</td>\n",
       "      <td>2413</td>\n",
       "      <td>92</td>\n",
       "      <td>34</td>\n",
       "      <td>173</td>\n",
       "    </tr>\n",
       "  </tbody>\n",
       "</table>\n",
       "</div>"
      ],
      "text/plain": [
       "                                                                       0  \\\n",
       "adult                                                              False   \n",
       "belongs_to_collection  {'id': 10194, 'name': 'Toy Story Collection', ...   \n",
       "budget                                                          30000000   \n",
       "genres                 [{'id': 16, 'name': 'Animation'}, {'id': 35, '...   \n",
       "homepage                            http://toystory.disney.com/toy-story   \n",
       "id                                                                   862   \n",
       "imdb_id                                                        tt0114709   \n",
       "original_language                                                     en   \n",
       "original_title                                                 Toy Story   \n",
       "overview               Led by Woody, Andy's toys live happily in his ...   \n",
       "popularity                                                       21.9469   \n",
       "poster_path                             /rhIRbceoE9lR4veEXuwCC2wARtG.jpg   \n",
       "production_companies      [{'name': 'Pixar Animation Studios', 'id': 3}]   \n",
       "production_countries   [{'iso_3166_1': 'US', 'name': 'United States o...   \n",
       "release_date                                                  1995-10-30   \n",
       "revenue                                                      3.73554e+08   \n",
       "runtime                                                               81   \n",
       "spoken_languages                [{'iso_639_1': 'en', 'name': 'English'}]   \n",
       "status                                                          Released   \n",
       "tagline                                                              NaN   \n",
       "title                                                          Toy Story   \n",
       "video                                                              False   \n",
       "vote_average                                                         7.7   \n",
       "vote_count                                                          5415   \n",
       "\n",
       "                                                                       1  \\\n",
       "adult                                                              False   \n",
       "belongs_to_collection                                                NaN   \n",
       "budget                                                          65000000   \n",
       "genres                 [{'id': 12, 'name': 'Adventure'}, {'id': 14, '...   \n",
       "homepage                                                             NaN   \n",
       "id                                                                  8844   \n",
       "imdb_id                                                        tt0113497   \n",
       "original_language                                                     en   \n",
       "original_title                                                   Jumanji   \n",
       "overview               When siblings Judy and Peter discover an encha...   \n",
       "popularity                                                       17.0155   \n",
       "poster_path                             /vzmL6fP7aPKNKPRTFnZmiUfciyV.jpg   \n",
       "production_companies   [{'name': 'TriStar Pictures', 'id': 559}, {'na...   \n",
       "production_countries   [{'iso_3166_1': 'US', 'name': 'United States o...   \n",
       "release_date                                                  1995-12-15   \n",
       "revenue                                                      2.62797e+08   \n",
       "runtime                                                              104   \n",
       "spoken_languages       [{'iso_639_1': 'en', 'name': 'English'}, {'iso...   \n",
       "status                                                          Released   \n",
       "tagline                        Roll the dice and unleash the excitement!   \n",
       "title                                                            Jumanji   \n",
       "video                                                              False   \n",
       "vote_average                                                         6.9   \n",
       "vote_count                                                          2413   \n",
       "\n",
       "                                                                       2  \\\n",
       "adult                                                              False   \n",
       "belongs_to_collection  {'id': 119050, 'name': 'Grumpy Old Men Collect...   \n",
       "budget                                                                 0   \n",
       "genres                 [{'id': 10749, 'name': 'Romance'}, {'id': 35, ...   \n",
       "homepage                                                             NaN   \n",
       "id                                                                 15602   \n",
       "imdb_id                                                        tt0113228   \n",
       "original_language                                                     en   \n",
       "original_title                                          Grumpier Old Men   \n",
       "overview               A family wedding reignites the ancient feud be...   \n",
       "popularity                                                       11.7129   \n",
       "poster_path                             /6ksm1sjKMFLbO7UY2i6G1ju9SML.jpg   \n",
       "production_companies   [{'name': 'Warner Bros.', 'id': 6194}, {'name'...   \n",
       "production_countries   [{'iso_3166_1': 'US', 'name': 'United States o...   \n",
       "release_date                                                  1995-12-22   \n",
       "revenue                                                                0   \n",
       "runtime                                                              101   \n",
       "spoken_languages                [{'iso_639_1': 'en', 'name': 'English'}]   \n",
       "status                                                          Released   \n",
       "tagline                Still Yelling. Still Fighting. Still Ready for...   \n",
       "title                                                   Grumpier Old Men   \n",
       "video                                                              False   \n",
       "vote_average                                                         6.5   \n",
       "vote_count                                                            92   \n",
       "\n",
       "                                                                       3  \\\n",
       "adult                                                              False   \n",
       "belongs_to_collection                                                NaN   \n",
       "budget                                                          16000000   \n",
       "genres                 [{'id': 35, 'name': 'Comedy'}, {'id': 18, 'nam...   \n",
       "homepage                                                             NaN   \n",
       "id                                                                 31357   \n",
       "imdb_id                                                        tt0114885   \n",
       "original_language                                                     en   \n",
       "original_title                                         Waiting to Exhale   \n",
       "overview               Cheated on, mistreated and stepped on, the wom...   \n",
       "popularity                                                       3.85949   \n",
       "poster_path                             /16XOMpEaLWkrcPqSQqhTmeJuqQl.jpg   \n",
       "production_companies   [{'name': 'Twentieth Century Fox Film Corporat...   \n",
       "production_countries   [{'iso_3166_1': 'US', 'name': 'United States o...   \n",
       "release_date                                                  1995-12-22   \n",
       "revenue                                                      8.14522e+07   \n",
       "runtime                                                              127   \n",
       "spoken_languages                [{'iso_639_1': 'en', 'name': 'English'}]   \n",
       "status                                                          Released   \n",
       "tagline                Friends are the people who let you be yourself...   \n",
       "title                                                  Waiting to Exhale   \n",
       "video                                                              False   \n",
       "vote_average                                                         6.1   \n",
       "vote_count                                                            34   \n",
       "\n",
       "                                                                       4  \n",
       "adult                                                              False  \n",
       "belongs_to_collection  {'id': 96871, 'name': 'Father of the Bride Col...  \n",
       "budget                                                                 0  \n",
       "genres                                    [{'id': 35, 'name': 'Comedy'}]  \n",
       "homepage                                                             NaN  \n",
       "id                                                                 11862  \n",
       "imdb_id                                                        tt0113041  \n",
       "original_language                                                     en  \n",
       "original_title                               Father of the Bride Part II  \n",
       "overview               Just when George Banks has recovered from his ...  \n",
       "popularity                                                       8.38752  \n",
       "poster_path                             /e64sOI48hQXyru7naBFyssKFxVd.jpg  \n",
       "production_companies   [{'name': 'Sandollar Productions', 'id': 5842}...  \n",
       "production_countries   [{'iso_3166_1': 'US', 'name': 'United States o...  \n",
       "release_date                                                  1995-02-10  \n",
       "revenue                                                      7.65789e+07  \n",
       "runtime                                                              106  \n",
       "spoken_languages                [{'iso_639_1': 'en', 'name': 'English'}]  \n",
       "status                                                          Released  \n",
       "tagline                Just When His World Is Back To Normal... He's ...  \n",
       "title                                        Father of the Bride Part II  \n",
       "video                                                              False  \n",
       "vote_average                                                         5.7  \n",
       "vote_count                                                           173  "
      ]
     },
     "execution_count": 2,
     "metadata": {},
     "output_type": "execute_result"
    }
   ],
   "source": [
    "# DS_URL = \"https://raw.githubusercontent.com/ml-heroes/ml-dataset/master/movies/movies_metadata.csv\"\n",
    "# FIG_SIZE=(12, 6)\n",
    "df = pd.read_csv('https://raw.githubusercontent.com/ml-heroes/ml-dataset/master/movies/movies_metadata.csv')\n",
    "df.head().transpose()"
   ]
  },
  {
   "cell_type": "markdown",
   "metadata": {
    "_cell_guid": "2b404ae6-7eb8-4dbc-8008-49f4cfba12db",
    "_uuid": "5c5b405a0352d12ec83ca4329d13d0c4c3f24df5"
   },
   "source": [
    "## Understanding the Dataset"
   ]
  },
  {
   "cell_type": "code",
   "execution_count": 3,
   "metadata": {
    "_cell_guid": "3ceab5e0-f8fa-4886-92fb-3143ebefae04",
    "_uuid": "07bd1632794fd3b0894b937c11889683d4170b36"
   },
   "outputs": [
    {
     "data": {
      "text/plain": [
       "Index(['adult', 'belongs_to_collection', 'budget', 'genres', 'homepage', 'id',\n",
       "       'imdb_id', 'original_language', 'original_title', 'overview',\n",
       "       'popularity', 'poster_path', 'production_companies',\n",
       "       'production_countries', 'release_date', 'revenue', 'runtime',\n",
       "       'spoken_languages', 'status', 'tagline', 'title', 'video',\n",
       "       'vote_average', 'vote_count'],\n",
       "      dtype='object')"
      ]
     },
     "execution_count": 3,
     "metadata": {},
     "output_type": "execute_result"
    }
   ],
   "source": [
    "df.columns"
   ]
  },
  {
   "cell_type": "markdown",
   "metadata": {
    "_cell_guid": "c3da451d-2ed9-4fee-a2ce-9495ba9812c0",
    "_uuid": "62967d993e89c5b0f20c31afd863f402cc628061"
   },
   "source": [
    "### Features\n",
    "\n",
    "* **adult:** Indicates if the movie is X-Rated or Adult.\n",
    "* **belongs_to_collection:** A stringified dictionary that gives information on the movie series the particular film belongs to.\n",
    "* **budget:** The budget of the movie in dollars.\n",
    "* **genres:** A stringified list of dictionaries that list out all the genres associated with the movie.\n",
    "* **homepage:** The Official Homepage of the move.\n",
    "* **id:** The ID of the move.\n",
    "* **imdb_id:** The IMDB ID of the movie.\n",
    "* **original_language:** The language in which the movie was originally shot in.\n",
    "* **original_title:** The original title of the movie.\n",
    "* **overview:** A brief blurb of the movie.\n",
    "* **popularity:** The Popularity Score assigned by TMDB.\n",
    "* **poster_path:** The URL of the poster image.\n",
    "* **production_companies:** A stringified list of production companies involved with the making of the movie.\n",
    "* **production_countries:** A stringified list of countries where the movie was shot/produced in.\n",
    "* **release_date:** Theatrical Release Date of the movie.\n",
    "* **revenue:** The total revenue of the movie in dollars.\n",
    "* **runtime:** The runtime of the movie in minutes.\n",
    "* **spoken_languages:** A stringified list of spoken languages in the film.\n",
    "* **status:** The status of the movie (Released, To Be Released, Announced, etc.)\n",
    "* **tagline:** The tagline of the movie.\n",
    "* **title:** The Official Title of the movie.\n",
    "* **video:** Indicates if there is a video present of the movie with TMDB.\n",
    "* **vote_average:** The average rating of the movie.\n",
    "* **vote_count:** The number of votes by users, as counted by TMDB."
   ]
  },
  {
   "cell_type": "code",
   "execution_count": 4,
   "metadata": {
    "_cell_guid": "f2c73762-4cdf-43ae-b9be-a1c138996f40",
    "_uuid": "83cf27cc41b34a9e26b439b05d10dc6008451911"
   },
   "outputs": [
    {
     "data": {
      "text/plain": [
       "(45466, 24)"
      ]
     },
     "execution_count": 4,
     "metadata": {},
     "output_type": "execute_result"
    }
   ],
   "source": [
    "df.shape"
   ]
  },
  {
   "cell_type": "code",
   "execution_count": 5,
   "metadata": {
    "_cell_guid": "2aa45102-eb7d-4654-a381-910c9fb2a9b2",
    "_uuid": "767b6372ddc8ac76d1e59fed5002669606770245"
   },
   "outputs": [
    {
     "name": "stdout",
     "output_type": "stream",
     "text": [
      "<class 'pandas.core.frame.DataFrame'>\n",
      "RangeIndex: 45466 entries, 0 to 45465\n",
      "Data columns (total 24 columns):\n",
      "adult                    45466 non-null object\n",
      "belongs_to_collection    4494 non-null object\n",
      "budget                   45466 non-null object\n",
      "genres                   45466 non-null object\n",
      "homepage                 7782 non-null object\n",
      "id                       45466 non-null object\n",
      "imdb_id                  45449 non-null object\n",
      "original_language        45455 non-null object\n",
      "original_title           45466 non-null object\n",
      "overview                 44512 non-null object\n",
      "popularity               45461 non-null object\n",
      "poster_path              45080 non-null object\n",
      "production_companies     45463 non-null object\n",
      "production_countries     45463 non-null object\n",
      "release_date             45379 non-null object\n",
      "revenue                  45460 non-null float64\n",
      "runtime                  45203 non-null float64\n",
      "spoken_languages         45460 non-null object\n",
      "status                   45379 non-null object\n",
      "tagline                  20412 non-null object\n",
      "title                    45460 non-null object\n",
      "video                    45460 non-null object\n",
      "vote_average             45460 non-null float64\n",
      "vote_count               45460 non-null float64\n",
      "dtypes: float64(4), object(20)\n",
      "memory usage: 8.3+ MB\n"
     ]
    }
   ],
   "source": [
    "df.info()"
   ]
  },
  {
   "cell_type": "markdown",
   "metadata": {
    "_cell_guid": "d90b1bdd-e8eb-4f88-ab6b-d6443b662fcf",
    "_uuid": "600e018aa00f2d65b79182d9fa62c6f706bd40b6"
   },
   "source": [
    "There are a total of **45,466 movies** with **24 features**. Most of the features have very few NaN values (apart from **homepage** and **tagline**). We will attempt at cleaning this dataset to a form suitable for analysis in the next section."
   ]
  },
  {
   "cell_type": "markdown",
   "metadata": {
    "_cell_guid": "c69b73e9-30bd-463a-8ff5-b4d1ef60ae33",
    "_uuid": "7f60f6a2618fa990957de5d0b3707fa018725d73"
   },
   "source": [
    "## Feature Engineering"
   ]
  },
  {
   "cell_type": "markdown",
   "metadata": {},
   "source": [
    "There are *3* data records that have errors. Let us remove them from the dataset. These records have misplaced information for the various features. "
   ]
  },
  {
   "cell_type": "markdown",
   "metadata": {},
   "source": [
    "We can identify these records by checking which records have adult variables have improper value"
   ]
  },
  {
   "cell_type": "code",
   "execution_count": 6,
   "metadata": {},
   "outputs": [
    {
     "data": {
      "text/html": [
       "<div>\n",
       "<style scoped>\n",
       "    .dataframe tbody tr th:only-of-type {\n",
       "        vertical-align: middle;\n",
       "    }\n",
       "\n",
       "    .dataframe tbody tr th {\n",
       "        vertical-align: top;\n",
       "    }\n",
       "\n",
       "    .dataframe thead th {\n",
       "        text-align: right;\n",
       "    }\n",
       "</style>\n",
       "<table border=\"1\" class=\"dataframe\">\n",
       "  <thead>\n",
       "    <tr style=\"text-align: right;\">\n",
       "      <th></th>\n",
       "      <th>adult</th>\n",
       "      <th>belongs_to_collection</th>\n",
       "      <th>budget</th>\n",
       "      <th>genres</th>\n",
       "      <th>homepage</th>\n",
       "      <th>id</th>\n",
       "      <th>imdb_id</th>\n",
       "      <th>original_language</th>\n",
       "      <th>original_title</th>\n",
       "      <th>overview</th>\n",
       "      <th>...</th>\n",
       "      <th>release_date</th>\n",
       "      <th>revenue</th>\n",
       "      <th>runtime</th>\n",
       "      <th>spoken_languages</th>\n",
       "      <th>status</th>\n",
       "      <th>tagline</th>\n",
       "      <th>title</th>\n",
       "      <th>video</th>\n",
       "      <th>vote_average</th>\n",
       "      <th>vote_count</th>\n",
       "    </tr>\n",
       "  </thead>\n",
       "  <tbody>\n",
       "    <tr>\n",
       "      <th>19730</th>\n",
       "      <td>- Written by Ørnås</td>\n",
       "      <td>0.065736</td>\n",
       "      <td>/ff9qCepilowshEtG2GYWwzt2bs4.jpg</td>\n",
       "      <td>[{'name': 'Carousel Productions', 'id': 11176}...</td>\n",
       "      <td>[{'iso_3166_1': 'CA', 'name': 'Canada'}, {'iso...</td>\n",
       "      <td>1997-08-20</td>\n",
       "      <td>0</td>\n",
       "      <td>104.0</td>\n",
       "      <td>[{'iso_639_1': 'en', 'name': 'English'}]</td>\n",
       "      <td>Released</td>\n",
       "      <td>...</td>\n",
       "      <td>1</td>\n",
       "      <td>NaN</td>\n",
       "      <td>NaN</td>\n",
       "      <td>NaN</td>\n",
       "      <td>NaN</td>\n",
       "      <td>NaN</td>\n",
       "      <td>NaN</td>\n",
       "      <td>NaN</td>\n",
       "      <td>NaN</td>\n",
       "      <td>NaN</td>\n",
       "    </tr>\n",
       "    <tr>\n",
       "      <th>29503</th>\n",
       "      <td>Rune Balot goes to a casino connected to the ...</td>\n",
       "      <td>1.931659</td>\n",
       "      <td>/zV8bHuSL6WXoD6FWogP9j4x80bL.jpg</td>\n",
       "      <td>[{'name': 'Aniplex', 'id': 2883}, {'name': 'Go...</td>\n",
       "      <td>[{'iso_3166_1': 'US', 'name': 'United States o...</td>\n",
       "      <td>2012-09-29</td>\n",
       "      <td>0</td>\n",
       "      <td>68.0</td>\n",
       "      <td>[{'iso_639_1': 'ja', 'name': '日本語'}]</td>\n",
       "      <td>Released</td>\n",
       "      <td>...</td>\n",
       "      <td>12</td>\n",
       "      <td>NaN</td>\n",
       "      <td>NaN</td>\n",
       "      <td>NaN</td>\n",
       "      <td>NaN</td>\n",
       "      <td>NaN</td>\n",
       "      <td>NaN</td>\n",
       "      <td>NaN</td>\n",
       "      <td>NaN</td>\n",
       "      <td>NaN</td>\n",
       "    </tr>\n",
       "    <tr>\n",
       "      <th>35587</th>\n",
       "      <td>Avalanche Sharks tells the story of a bikini ...</td>\n",
       "      <td>2.185485</td>\n",
       "      <td>/zaSf5OG7V8X8gqFvly88zDdRm46.jpg</td>\n",
       "      <td>[{'name': 'Odyssey Media', 'id': 17161}, {'nam...</td>\n",
       "      <td>[{'iso_3166_1': 'CA', 'name': 'Canada'}]</td>\n",
       "      <td>2014-01-01</td>\n",
       "      <td>0</td>\n",
       "      <td>82.0</td>\n",
       "      <td>[{'iso_639_1': 'en', 'name': 'English'}]</td>\n",
       "      <td>Released</td>\n",
       "      <td>...</td>\n",
       "      <td>22</td>\n",
       "      <td>NaN</td>\n",
       "      <td>NaN</td>\n",
       "      <td>NaN</td>\n",
       "      <td>NaN</td>\n",
       "      <td>NaN</td>\n",
       "      <td>NaN</td>\n",
       "      <td>NaN</td>\n",
       "      <td>NaN</td>\n",
       "      <td>NaN</td>\n",
       "    </tr>\n",
       "  </tbody>\n",
       "</table>\n",
       "<p>3 rows × 24 columns</p>\n",
       "</div>"
      ],
      "text/plain": [
       "                                                   adult  \\\n",
       "19730                                 - Written by Ørnås   \n",
       "29503   Rune Balot goes to a casino connected to the ...   \n",
       "35587   Avalanche Sharks tells the story of a bikini ...   \n",
       "\n",
       "      belongs_to_collection                            budget  \\\n",
       "19730              0.065736  /ff9qCepilowshEtG2GYWwzt2bs4.jpg   \n",
       "29503              1.931659  /zV8bHuSL6WXoD6FWogP9j4x80bL.jpg   \n",
       "35587              2.185485  /zaSf5OG7V8X8gqFvly88zDdRm46.jpg   \n",
       "\n",
       "                                                  genres  \\\n",
       "19730  [{'name': 'Carousel Productions', 'id': 11176}...   \n",
       "29503  [{'name': 'Aniplex', 'id': 2883}, {'name': 'Go...   \n",
       "35587  [{'name': 'Odyssey Media', 'id': 17161}, {'nam...   \n",
       "\n",
       "                                                homepage          id imdb_id  \\\n",
       "19730  [{'iso_3166_1': 'CA', 'name': 'Canada'}, {'iso...  1997-08-20       0   \n",
       "29503  [{'iso_3166_1': 'US', 'name': 'United States o...  2012-09-29       0   \n",
       "35587           [{'iso_3166_1': 'CA', 'name': 'Canada'}]  2014-01-01       0   \n",
       "\n",
       "      original_language                            original_title  overview  \\\n",
       "19730             104.0  [{'iso_639_1': 'en', 'name': 'English'}]  Released   \n",
       "29503              68.0      [{'iso_639_1': 'ja', 'name': '日本語'}]  Released   \n",
       "35587              82.0  [{'iso_639_1': 'en', 'name': 'English'}]  Released   \n",
       "\n",
       "       ... release_date revenue runtime spoken_languages status  tagline  \\\n",
       "19730  ...            1     NaN     NaN              NaN    NaN      NaN   \n",
       "29503  ...           12     NaN     NaN              NaN    NaN      NaN   \n",
       "35587  ...           22     NaN     NaN              NaN    NaN      NaN   \n",
       "\n",
       "       title video vote_average vote_count  \n",
       "19730    NaN   NaN          NaN        NaN  \n",
       "29503    NaN   NaN          NaN        NaN  \n",
       "35587    NaN   NaN          NaN        NaN  \n",
       "\n",
       "[3 rows x 24 columns]"
      ]
     },
     "execution_count": 6,
     "metadata": {},
     "output_type": "execute_result"
    }
   ],
   "source": [
    "df.loc[lambda df: (df['adult'] != \"True\") & (df['adult'] != \"False\")]"
   ]
  },
  {
   "cell_type": "markdown",
   "metadata": {},
   "source": [
    "We can see some misalignment with these 3 records, having adult feature with overview data. Let us remove these records from the dataset"
   ]
  },
  {
   "cell_type": "code",
   "execution_count": 7,
   "metadata": {},
   "outputs": [],
   "source": [
    "df = df.drop([19730, 29503, 35587])"
   ]
  },
  {
   "cell_type": "markdown",
   "metadata": {
    "_cell_guid": "fab9b4f1-2e31-4054-b830-3a7ac664a959",
    "_uuid": "420c1b757dda022511fed59c2f3defe217195ead"
   },
   "source": [
    "The data that was originally obtained was in the form of a JSON File. This was converted manually into a CSV file to arrive at an input that could be loaded into a Pandas DataFrame effortlessly. In other words, the dataset we have in our hands is already relatively clean. We will however attempt at learning more about our features and performing appropriate wrangling steps to arrive at a form that is more suitable for analysis.\n",
    "\n",
    "Let us start by removing the features that are not useful to us."
   ]
  },
  {
   "cell_type": "code",
   "execution_count": 8,
   "metadata": {
    "_cell_guid": "15fa55a6-7a6c-4531-84b9-7ced47ced5af",
    "_uuid": "c592fd468ad5d02e9ce032155a71e635ce5ba7ec"
   },
   "outputs": [],
   "source": [
    "#  Removing imbd_id as it is a generated id and has no relationship with model training\n",
    "df = df.drop(['imdb_id'], axis=1)"
   ]
  },
  {
   "cell_type": "code",
   "execution_count": 9,
   "metadata": {
    "_cell_guid": "29bf4898-a176-499c-9075-979009129fdc",
    "_uuid": "1e8fb4684602fecd1ada5734003cc888ad70497f"
   },
   "outputs": [
    {
     "data": {
      "text/html": [
       "<div>\n",
       "<style scoped>\n",
       "    .dataframe tbody tr th:only-of-type {\n",
       "        vertical-align: middle;\n",
       "    }\n",
       "\n",
       "    .dataframe tbody tr th {\n",
       "        vertical-align: top;\n",
       "    }\n",
       "\n",
       "    .dataframe thead th {\n",
       "        text-align: right;\n",
       "    }\n",
       "</style>\n",
       "<table border=\"1\" class=\"dataframe\">\n",
       "  <thead>\n",
       "    <tr style=\"text-align: right;\">\n",
       "      <th></th>\n",
       "      <th>title</th>\n",
       "      <th>original_title</th>\n",
       "    </tr>\n",
       "  </thead>\n",
       "  <tbody>\n",
       "    <tr>\n",
       "      <th>28</th>\n",
       "      <td>The City of Lost Children</td>\n",
       "      <td>La Cité des Enfants Perdus</td>\n",
       "    </tr>\n",
       "    <tr>\n",
       "      <th>29</th>\n",
       "      <td>Shanghai Triad</td>\n",
       "      <td>摇啊摇，摇到外婆桥</td>\n",
       "    </tr>\n",
       "    <tr>\n",
       "      <th>32</th>\n",
       "      <td>Wings of Courage</td>\n",
       "      <td>Guillaumet, les ailes du courage</td>\n",
       "    </tr>\n",
       "    <tr>\n",
       "      <th>57</th>\n",
       "      <td>The Postman</td>\n",
       "      <td>Il postino</td>\n",
       "    </tr>\n",
       "    <tr>\n",
       "      <th>58</th>\n",
       "      <td>The Confessional</td>\n",
       "      <td>Le confessionnal</td>\n",
       "    </tr>\n",
       "  </tbody>\n",
       "</table>\n",
       "</div>"
      ],
      "text/plain": [
       "                        title                    original_title\n",
       "28  The City of Lost Children        La Cité des Enfants Perdus\n",
       "29             Shanghai Triad                         摇啊摇，摇到外婆桥\n",
       "32           Wings of Courage  Guillaumet, les ailes du courage\n",
       "57                The Postman                        Il postino\n",
       "58           The Confessional                  Le confessionnal"
      ]
     },
     "execution_count": 9,
     "metadata": {},
     "output_type": "execute_result"
    }
   ],
   "source": [
    "df[df['original_title'] != df['title']][['title', 'original_title']].head()"
   ]
  },
  {
   "cell_type": "markdown",
   "metadata": {
    "_cell_guid": "b6c60f30-d4e3-425e-a25a-3f057312e4fc",
    "_uuid": "e2658ac84b859ffc2106767c95e5aa6f3bfde1b9"
   },
   "source": [
    "The original title refers to the title of the movie in the native language in which the movie was shot. As such, I will prefer using the translated, Anglicized name in this analysis and hence, will drop the original titles altogether. We will be able to deduce if the movie is a foreign language film by looking at the **original_language** feature so no tangible information is lost in doing so."
   ]
  },
  {
   "cell_type": "code",
   "execution_count": 10,
   "metadata": {
    "_cell_guid": "03c5007b-7b88-4f70-a385-c272bd0efa6c",
    "_uuid": "3787bf20b8216af5e7db885efe72ffc14df532e3"
   },
   "outputs": [],
   "source": [
    "df = df.drop('original_title', axis=1)"
   ]
  },
  {
   "cell_type": "markdown",
   "metadata": {},
   "source": [
    "### revenue"
   ]
  },
  {
   "cell_type": "code",
   "execution_count": 11,
   "metadata": {},
   "outputs": [
    {
     "data": {
      "text/plain": [
       "count    4.546000e+04\n",
       "mean     1.120935e+07\n",
       "std      6.433225e+07\n",
       "min      0.000000e+00\n",
       "25%      0.000000e+00\n",
       "50%      0.000000e+00\n",
       "75%      0.000000e+00\n",
       "max      2.787965e+09\n",
       "Name: revenue, dtype: float64"
      ]
     },
     "execution_count": 11,
     "metadata": {},
     "output_type": "execute_result"
    }
   ],
   "source": [
    "df['revenue'].describe()"
   ]
  },
  {
   "cell_type": "code",
   "execution_count": 12,
   "metadata": {},
   "outputs": [
    {
     "name": "stderr",
     "output_type": "stream",
     "text": [
      "/home/clinton/anaconda3/lib/python3.7/site-packages/numpy/lib/histograms.py:839: RuntimeWarning:\n",
      "\n",
      "invalid value encountered in greater_equal\n",
      "\n",
      "/home/clinton/anaconda3/lib/python3.7/site-packages/numpy/lib/histograms.py:840: RuntimeWarning:\n",
      "\n",
      "invalid value encountered in less_equal\n",
      "\n"
     ]
    },
    {
     "data": {
      "text/plain": [
       "(array([4.5018e+04, 2.9900e+02, 8.7000e+01, 4.0000e+01, 9.0000e+00,\n",
       "        4.0000e+00, 1.0000e+00, 1.0000e+00, 0.0000e+00, 1.0000e+00]),\n",
       " array([0.00000000e+00, 2.78796509e+08, 5.57593017e+08, 8.36389526e+08,\n",
       "        1.11518603e+09, 1.39398254e+09, 1.67277905e+09, 1.95157556e+09,\n",
       "        2.23037207e+09, 2.50916858e+09, 2.78796509e+09]),\n",
       " <a list of 10 Patch objects>)"
      ]
     },
     "execution_count": 12,
     "metadata": {},
     "output_type": "execute_result"
    },
    {
     "data": {
      "image/png": "[encoded data removed]",
      "text/plain": [
       "<Figure size 432x288 with 1 Axes>"
      ]
     },
     "metadata": {},
     "output_type": "display_data"
    }
   ],
   "source": [
    "plt.hist(df['revenue'])"
   ]
  },
  {
   "cell_type": "markdown",
   "metadata": {},
   "source": [
    "There seem to be a lot of data having a revenue of 0, which is unexpoected."
   ]
  },
  {
   "cell_type": "code",
   "execution_count": 13,
   "metadata": {
    "_cell_guid": "e2ef36e1-ab26-4c3f-8a08-e0f8d1e4a97d",
    "_uuid": "3d6a11854e9953c449888c63c779abd3b413aacb"
   },
   "outputs": [
    {
     "data": {
      "text/plain": [
       "(38052, 22)"
      ]
     },
     "execution_count": 13,
     "metadata": {},
     "output_type": "execute_result"
    }
   ],
   "source": [
    "# revenue feature\n",
    "df[df['revenue'] == 0].shape"
   ]
  },
  {
   "cell_type": "markdown",
   "metadata": {
    "_cell_guid": "f6551829-f1ef-4a71-a07b-79c176b502eb",
    "_uuid": "b7c43f5fe87e59faa2126b463300bb3c34548199"
   },
   "source": [
    "We see that the majority of the movies have a recorded revenue of **0**. This indicates that we do not have information about the total revenue for these movies. Although this forms the majority of the movies available to us, we will still use revenue as an extremely important feature going forward from the remaining 48000 moves."
   ]
  },
  {
   "cell_type": "code",
   "execution_count": 14,
   "metadata": {
    "_cell_guid": "7d2e9124-a792-4c4b-af0e-fd27b9291496",
    "_uuid": "65f1ef9699df66653b5deb14caf6f2c665d19bc8"
   },
   "outputs": [],
   "source": [
    "df['revenue'] = df['revenue'].replace(0, np.nan)"
   ]
  },
  {
   "cell_type": "markdown",
   "metadata": {
    "_cell_guid": "f2ccb70a-16ad-4242-bda7-a4c6c4e4d154",
    "_uuid": "ff540ec7f3eb425c37ee26d99e924d3ab33e6965"
   },
   "source": [
    "The **budget** feature has some unclean values that makes Pandas assign it as a generic object. We proceed to convert this into a numeric variable and replace all the non-numeric values with NaN. Finally, as with budget, we will convert all the values of 0 with NaN to indicate the absence of information regarding budget."
   ]
  },
  {
   "cell_type": "code",
   "execution_count": 15,
   "metadata": {
    "_cell_guid": "930646b1-88ed-4998-80d9-38a14c7b14f2",
    "_uuid": "de9dcfb4a1e37b62dc8d9613d298d015a5406ef5"
   },
   "outputs": [
    {
     "data": {
      "text/plain": [
       "(36573, 22)"
      ]
     },
     "execution_count": 15,
     "metadata": {},
     "output_type": "execute_result"
    }
   ],
   "source": [
    "df['budget'] = pd.to_numeric(df['budget'], errors='coerce')\n",
    "df['budget'] = df['budget'].replace(0, np.nan)\n",
    "df[df['budget'].isnull()].shape"
   ]
  },
  {
   "cell_type": "markdown",
   "metadata": {
    "_cell_guid": "82374dc0-7f28-459c-bedf-a393eb38e525",
    "_uuid": "68fa58afbf2b045d60a7a62ec94c3e4fb26493d3"
   },
   "source": [
    "As we move forward trying to answer certain questions, we will have to construct several features suitable for that particular query. For now, we will construct two very important features:\n",
    "* **year:** The year in which the movie was released.\n",
    "* **return:** The ratio of revenue to budget.\n",
    "\n",
    "The **return** feature is extremely insightful as it will give us a more accurate picture of the financial success of a movie. Presently, our data will not be able to judge if a *200* million budget movie that earned *100* million did better than a *50,000* budget movie taking in \\$200,000. This feature will be able to capture that information.\n",
    "\n",
    "A return value > 1 would indicate profit whereas a return value < 1 would indicate a loss."
   ]
  },
  {
   "cell_type": "code",
   "execution_count": 16,
   "metadata": {
    "_cell_guid": "f464aebd-d03d-49ea-972a-fc4e0dfa5841",
    "_uuid": "b77978c2209bdf040d07ca4ca2cb438df8cd582f"
   },
   "outputs": [
    {
     "data": {
      "text/plain": [
       "(40082, 23)"
      ]
     },
     "execution_count": 16,
     "metadata": {},
     "output_type": "execute_result"
    }
   ],
   "source": [
    "df['return'] = df['revenue'] / df['budget']\n",
    "df[df['return'].isnull()].shape"
   ]
  },
  {
   "cell_type": "markdown",
   "metadata": {
    "_cell_guid": "76b9bb7d-a653-4adb-bcad-b7b532ab37c2",
    "_uuid": "aae3377e4b0e756b7168c4e0061aef3e67e94b81"
   },
   "source": [
    "We have close to **5000 movies** for which we have data on revenue and budget ratio. This is close to **10% of the entire dataset**. Although this may seem small, this is enough to perform very useful analysis and discover interesting insights about the world of movies."
   ]
  },
  {
   "cell_type": "code",
   "execution_count": 17,
   "metadata": {
    "_cell_guid": "38298607-dc40-4ecc-8068-eab3d2d28846",
    "_uuid": "9ac209eed85041c467586d7e7a53be5d2b81a4bd"
   },
   "outputs": [],
   "source": [
    "df['year'] = pd.to_datetime(df['release_date'], errors='coerce').apply(lambda x: str(x).split('-')[0] if x != np.nan else np.nan)"
   ]
  },
  {
   "cell_type": "code",
   "execution_count": 18,
   "metadata": {
    "_cell_guid": "224311e5-ff68-40fb-9092-d417cf8ef527",
    "_uuid": "d1622710e1a31ba0320aeeaab92b9e4c1c46a01f"
   },
   "outputs": [
    {
     "data": {
      "text/plain": [
       "False    45454\n",
       "True         9\n",
       "Name: adult, dtype: int64"
      ]
     },
     "execution_count": 18,
     "metadata": {},
     "output_type": "execute_result"
    }
   ],
   "source": [
    "df['adult'].value_counts()"
   ]
  },
  {
   "cell_type": "markdown",
   "metadata": {
    "_cell_guid": "a4391014-0cfe-4106-8cfb-9f96f294cecb",
    "_uuid": "db0fcd4d7a4722e32e037ead3e082c7b81e301c4"
   },
   "source": [
    "There are close to **0 adult movies** in this dataset. The **adult** feature therefore is not of much use to us and can be safely dropped."
   ]
  },
  {
   "cell_type": "code",
   "execution_count": 19,
   "metadata": {
    "_cell_guid": "b410981b-57e7-40e9-8269-e19dd508e8e1",
    "_uuid": "fce37751a31615e8c821b4e46b6c7f36d270a8aa"
   },
   "outputs": [],
   "source": [
    "df = df.drop('adult', axis=1)"
   ]
  },
  {
   "cell_type": "code",
   "execution_count": 20,
   "metadata": {
    "_cell_guid": "3b95edee-5832-48e9-8a74-1fffee55bb03",
    "_uuid": "cea96a3f1e3634c02e5b8c6a87e5cb62539ea2b8"
   },
   "outputs": [],
   "source": [
    "base_poster_url = 'http://image.tmdb.org/t/p/w185/'\n",
    "df['poster_img'] = \"<img src='\" + base_poster_url + df['poster_path'] + \"' style='height:100px;'>\""
   ]
  },
  {
   "cell_type": "markdown",
   "metadata": {
    "_cell_guid": "b1b8f4a3-febe-4fec-a0d2-513d3fedfdbc",
    "_uuid": "a23f7313a3f4cae2505122de167a3224e142ff5e"
   },
   "source": [
    "## Exploratory Data Analysis\n",
    "### Title and Overview Wordclouds\n",
    "\n",
    "Are there certain words that figure more often in Movie Titles and Movie Blurbs? I suspect there are some words which are considered more potent and considered more worthy of a title. Let us find out!"
   ]
  },
  {
   "cell_type": "code",
   "execution_count": 21,
   "metadata": {},
   "outputs": [],
   "source": [
    "stopwords = set(STOPWORDS)"
   ]
  },
  {
   "cell_type": "code",
   "execution_count": 22,
   "metadata": {
    "_cell_guid": "925be64f-6ac4-42e5-8a29-d8d1877004a3",
    "_uuid": "0285d463d7fe21da1e7a3a8f9b55857a1d4bf3a6"
   },
   "outputs": [],
   "source": [
    "df['title'] = df['title'].astype('str')\n",
    "df['overview'] = df['overview'].astype('str')"
   ]
  },
  {
   "cell_type": "code",
   "execution_count": 23,
   "metadata": {
    "_cell_guid": "7650fe1b-65f7-4f92-9d66-6a639fe9f0bf",
    "_uuid": "4b076759e3baaf4f1a61cedacabdba43aaa75d7a"
   },
   "outputs": [],
   "source": [
    "title_corpus = ' '.join(df['title'])\n",
    "overview_corpus = ' '.join(df['overview'])"
   ]
  },
  {
   "cell_type": "code",
   "execution_count": 24,
   "metadata": {
    "_cell_guid": "8bea7150-7957-4bd2-9816-6cb44ca50bbb",
    "_uuid": "6de442a39614aa4e1e8771eac8e6d8bd15f073c7"
   },
   "outputs": [
    {
     "data": {
      "image/png": "[encoded data removed]",
      "text/plain": [
       "<Figure size 1152x576 with 1 Axes>"
      ]
     },
     "metadata": {},
     "output_type": "display_data"
    }
   ],
   "source": [
    "title_wordcloud = WordCloud(stopwords=stopwords, background_color='white', height=2000, width=4000).generate(title_corpus)\n",
    "plt.figure(figsize=(16,8))\n",
    "plt.imshow(title_wordcloud, interpolation='bilinear')\n",
    "plt.axis('off')\n",
    "plt.show()"
   ]
  },
  {
   "cell_type": "markdown",
   "metadata": {
    "_cell_guid": "34babcae-7284-4f7f-810b-c9107287b638",
    "_uuid": "3b08ac906f3ef69aceae5dbff45a6b59f9aadf0a"
   },
   "source": [
    "The word **Love** is the most commonly used word in movie titles. **Girl**, **Day** and **Man** are also among the most commonly occuring words. I think this encapsulates the idea of the ubiquitious presence of romance in movies pretty well."
   ]
  },
  {
   "cell_type": "code",
   "execution_count": null,
   "metadata": {
    "_cell_guid": "e82bb85b-0e5b-425d-abf9-da1af4b2b6b1",
    "_uuid": "48b0691c568b7e75c54612bcf4c7c47d7b7e1798"
   },
   "outputs": [],
   "source": [
    "overview_wordcloud = WordCloud(stopwords=stopwords, background_color='white', height=2000, width=4000).generate(overview_corpus)\n",
    "plt.figure(figsize=(16,8))\n",
    "plt.imshow(overview_wordcloud, interpolation='bilinear')\n",
    "plt.axis('off')\n",
    "plt.show()"
   ]
  },
  {
   "cell_type": "markdown",
   "metadata": {
    "_cell_guid": "594d11bd-e12e-42c5-858d-a42f0ac63080",
    "_uuid": "c8b1b9ed0ec65e4f7b49d48603333eb5d9f33071"
   },
   "source": [
    "**Life** is the most commonly used word in Movie titles. **One** and **Find** are also popular in Movie Blurbs. Together with **Love**, **Man** and **Girl**, these wordclouds give us a pretty good idea of the most popular themes present in movies. "
   ]
  },
  {
   "cell_type": "markdown",
   "metadata": {
    "_cell_guid": "360833c9-203e-4c49-b0b9-8df6dbb9df05",
    "_uuid": "3df29bc7f05037eaf20ea545e5ac314f44283670"
   },
   "source": [
    "### Production Countries\n",
    "\n",
    "The Full MovieLens Dataset consists of movies that are overwhelmingly in the English language (more than 31000). However, these movies may have shot in various locations around the world. It would be interesting to see which countries serve as the most popular destinations for shooting movies by filmmakers, especially those in the United States of America and the United Kingdom."
   ]
  },
  {
   "cell_type": "code",
   "execution_count": null,
   "metadata": {
    "_cell_guid": "e93627c3-a10c-45e0-904e-a4a59a682bd7",
    "_uuid": "13eed9ee078ec2de7e5fe964ac4996a69cc65278"
   },
   "outputs": [],
   "source": [
    "df['production_countries'] = df['production_countries'].fillna('[]').apply(ast.literal_eval)\n",
    "df['production_countries'] = df['production_countries'].apply(lambda x: [i['name'] for i in x] if isinstance(x, list) else [])"
   ]
  },
  {
   "cell_type": "code",
   "execution_count": null,
   "metadata": {
    "_cell_guid": "909d09b8-cbf2-4951-81dd-cbc6641ce940",
    "_uuid": "33373ac323077d77fb9e849f064d40b7f3f761d8"
   },
   "outputs": [],
   "source": [
    "s = df.apply(lambda x: pd.Series(x['production_countries']),axis=1).stack().reset_index(level=1, drop=True)\n",
    "s.name = 'countries'"
   ]
  },
  {
   "cell_type": "code",
   "execution_count": null,
   "metadata": {
    "_cell_guid": "4b10dfa9-7269-442a-8d82-a27834e15f5a",
    "_uuid": "b05e19b868406e2e941cd3b147bc70eb93f32815"
   },
   "outputs": [],
   "source": [
    "con_df = df.drop('production_countries', axis=1).join(s)\n",
    "con_df = pd.DataFrame(con_df['countries'].value_counts())\n",
    "con_df['country'] = con_df.index\n",
    "con_df.columns = ['num_movies', 'country']\n",
    "con_df = con_df.reset_index().drop('index', axis=1)\n",
    "con_df.head(10)"
   ]
  },
  {
   "cell_type": "code",
   "execution_count": null,
   "metadata": {},
   "outputs": [],
   "source": [
    "# con_df = con_df[con_df['country'] != 'United States of America']"
   ]
  },
  {
   "cell_type": "code",
   "execution_count": null,
   "metadata": {},
   "outputs": [],
   "source": [
    "data = [ dict(\n",
    "        type = 'choropleth',\n",
    "        locations = con_df['country'],\n",
    "        locationmode = 'country names',\n",
    "        z = con_df['num_movies'],\n",
    "        text = con_df['country'],\n",
    "        colorscale = [[0,'rgb(255, 255, 255)'],[1,'rgb(255, 0, 0)']],\n",
    "        autocolorscale = False,\n",
    "        reversescale = False,\n",
    "        marker = dict(\n",
    "            line = dict (\n",
    "                color = 'rgb(180,180,180)',\n",
    "                width = 0.5\n",
    "            ) ),\n",
    "        colorbar = dict(\n",
    "            autotick = False,\n",
    "            tickprefix = '',\n",
    "            title = 'Production Countries'),\n",
    "      ) ]\n",
    "\n",
    "layout = dict(\n",
    "    title = 'Production Countries for the MovieLens Movies (Apart from US)',\n",
    "    geo = dict(\n",
    "        showframe = False,\n",
    "        showcoastlines = False,\n",
    "        projection = dict(\n",
    "            type = 'Mercator'\n",
    "        )\n",
    "    )\n",
    ")\n",
    "\n",
    "fig = dict( data=data, layout=layout )\n",
    "py.iplot( fig, validate=False, filename='d3-world-map' )"
   ]
  },
  {
   "cell_type": "markdown",
   "metadata": {
    "_cell_guid": "3f75ae74-6b4d-49b0-973a-ae2efa1a02e2",
    "_uuid": "14bd9fb8400b25ac19d9a3862a4d63bf4e7419e0"
   },
   "source": [
    "Unsurprisingly, the **United States** is the most popular destination of production for movies given that our dataset largely consists of English movies. **Europe** is also an extremely popular location with the UK, France, Germany and Italy in the top 5. **Japan** and **India** are the most popular Asian countries when it comes to movie production."
   ]
  },
  {
   "cell_type": "markdown",
   "metadata": {
    "_cell_guid": "09310d3a-194e-4191-9098-1af47d1e6034",
    "_uuid": "658d3915edb8292d41df69c03220fe527c838d3c"
   },
   "source": [
    "### Franchise Movies\n",
    "\n",
    "Let us now have a brief look at Franchise movies. I was curious to discover the longest running and the most successful franchises among many other things. Let us wrangle our data to find out!"
   ]
  },
  {
   "cell_type": "code",
   "execution_count": null,
   "metadata": {
    "_cell_guid": "529e50b7-f811-4d00-9184-b44d184b824c",
    "_uuid": "4b6279f52fa0da506d4fb4e877c538d44433099a"
   },
   "outputs": [],
   "source": [
    "df_fran = df[df['belongs_to_collection'].notnull()]\n",
    "df_fran['belongs_to_collection'] = df_fran['belongs_to_collection'].apply(ast.literal_eval).apply(lambda x: x['name'] if isinstance(x, dict) else np.nan)\n",
    "df_fran = df_fran[df_fran['belongs_to_collection'].notnull()]"
   ]
  },
  {
   "cell_type": "code",
   "execution_count": null,
   "metadata": {
    "_cell_guid": "660fc21b-7100-4689-a179-0f0d184a5252",
    "_uuid": "2be5874cd42a8730b9a2e8f0ecb4f7fedffe4c2f"
   },
   "outputs": [],
   "source": [
    "fran_pivot = df_fran.pivot_table(index='belongs_to_collection', values='revenue', aggfunc={'revenue': ['mean', 'sum', 'count']}).reset_index()"
   ]
  },
  {
   "cell_type": "markdown",
   "metadata": {
    "_cell_guid": "27086712-c762-411f-ae6d-cadf518ed861",
    "_uuid": "da2b40e0168f39177178327d934b5ee0a116aaa5"
   },
   "source": [
    "#### Highest Grossing Movie Franchises "
   ]
  },
  {
   "cell_type": "code",
   "execution_count": null,
   "metadata": {
    "_cell_guid": "118a22cf-bfc5-4aeb-aeca-9a94e1717ddb",
    "_uuid": "3e29009096eda90a10d02cd3a18dc7afcc88fbff"
   },
   "outputs": [],
   "source": [
    "fran_pivot.sort_values('sum', ascending=False).head(10)"
   ]
  },
  {
   "cell_type": "markdown",
   "metadata": {
    "_cell_guid": "4b13ae4b-8296-4961-a57c-118d56cbff0d",
    "_uuid": "d876d992110320925a4746b8262cc3decf374e2f"
   },
   "source": [
    "The **Harry Potter** Franchise is the most successful movie franchise raking in more than 7.707 billion dollars from 8 movies. The **Star Wars** Movies come in a close second with a 7.403 billion dollars from 8 movies too. **James Bond**\n",
    "is third but the franchise has significantly more movies compared to the others in the list and therefore, a much smaller average gross."
   ]
  },
  {
   "cell_type": "markdown",
   "metadata": {
    "_cell_guid": "217c9fef-0d4a-4006-8122-520898660ff3",
    "_uuid": "a568b16335a63c7fa7094764df325635dd29240d"
   },
   "source": [
    "#### Most Successful Movie Franchises (by Average Gross)\n",
    "\n",
    "We will use the average gross per movie to gauge the success of a movie franchise. However, this is not a very potent metric as the revenues in this dataset have not been adjusted for inflation. Therefore, revenue statistics will tend to strongly favor franchises in the recent times."
   ]
  },
  {
   "cell_type": "code",
   "execution_count": null,
   "metadata": {
    "_cell_guid": "95317ed4-9f69-4221-8729-2b20d6a4378d",
    "_uuid": "07474f86476e890405fac3b0a07d291c24237bc2"
   },
   "outputs": [],
   "source": [
    "fran_pivot.sort_values('mean', ascending=False).head(10)"
   ]
  },
  {
   "cell_type": "markdown",
   "metadata": {
    "_cell_guid": "db490724-1351-42d5-b406-8a233c266e42",
    "_uuid": "0a2eca0ead0595df4b138c9223fc2e98eb1acea0"
   },
   "source": [
    "The **Avatar** Collection, although just consisting of one movie at the moment, is the most successful franchise of all time with the sole movie raking in close to 3 billion dollars. The **Harry Potter** franchise is still the most successful franchise with at least 5 movies."
   ]
  },
  {
   "cell_type": "markdown",
   "metadata": {
    "_cell_guid": "4a529e0e-2a3b-4eba-b879-269494c69fdf",
    "_uuid": "75c1d772969de6df4e7e5cbc7b51da6ab9598e36"
   },
   "source": [
    "#### Longest Running Franchises\n",
    "\n",
    "Finally, in this subsection, let us take a look at the franchises which have stood the test of time and have managed to deliver the largest number of movies under a single banner. This metric is potent in the way that it isn't affected by inflation. However, this does not imply that successful movie franchises tend to have more movies. Some franchises, such as Harry Potter, have a predefined storyline and it wouldn't make sense to produce more movies despite its enormous success."
   ]
  },
  {
   "cell_type": "code",
   "execution_count": null,
   "metadata": {
    "_cell_guid": "16af6cd4-d101-40a6-925b-8d32c3215122",
    "_uuid": "7ac25702aaf4f229684ffbbb31e114c3a8687995"
   },
   "outputs": [],
   "source": [
    "fran_pivot.sort_values('count', ascending=False).head(10)"
   ]
  },
  {
   "cell_type": "markdown",
   "metadata": {
    "_cell_guid": "3fa3b28b-881a-425e-9661-00a3f429e083",
    "_uuid": "e599f486e8b187df2c03d52644083e48da1f29be"
   },
   "source": [
    "The **James Bond** Movies is the largest franchise ever with over 26 movies released under the banner. **Friday the 13th** and **Pokemon** come in at a distant second and third with 12 and 11 movies respectively."
   ]
  },
  {
   "cell_type": "markdown",
   "metadata": {
    "_cell_guid": "9188d99d-8ee3-40b3-b99a-a108a1106d5c",
    "_uuid": "9950699f252196c79168d90e4d758d4f512895be"
   },
   "source": [
    "### Production Companies"
   ]
  },
  {
   "cell_type": "code",
   "execution_count": null,
   "metadata": {
    "_cell_guid": "64da44ec-9210-4796-910c-4494d59d53b7",
    "_uuid": "0377fb5ae7de4c7a11f13c0c7c7df3ced781d2e3"
   },
   "outputs": [],
   "source": [
    "df['production_companies'] = df['production_companies'].fillna('[]').apply(ast.literal_eval)\n",
    "df['production_companies'] = df['production_companies'].apply(lambda x: [i['name'] for i in x] if isinstance(x, list) else [])"
   ]
  },
  {
   "cell_type": "code",
   "execution_count": null,
   "metadata": {
    "_cell_guid": "695ed3c8-398e-447b-9cdf-3a2eafc91658",
    "_uuid": "df144753af752859adf9ca6f18c7a7fa19dcc989"
   },
   "outputs": [],
   "source": [
    "s = df.apply(lambda x: pd.Series(x['production_companies']),axis=1).stack().reset_index(level=1, drop=True)\n",
    "s.name = 'companies'"
   ]
  },
  {
   "cell_type": "code",
   "execution_count": null,
   "metadata": {
    "_cell_guid": "d5585a3b-e5b6-4acc-a626-c82814c4887c",
    "_uuid": "fbabd3cd73449aa83f53a78c71397f664acddfdd"
   },
   "outputs": [],
   "source": [
    "com_df = df.drop('production_companies', axis=1).join(s)"
   ]
  },
  {
   "cell_type": "code",
   "execution_count": null,
   "metadata": {
    "_cell_guid": "2946eb43-36a6-4077-a7fc-dd598c91763f",
    "_uuid": "ffe57b3750d1378e23844aeb1196d5283f7cd399"
   },
   "outputs": [],
   "source": [
    "com_sum = pd.DataFrame(com_df.groupby('companies')['revenue'].sum().sort_values(ascending=False))\n",
    "com_sum.columns = ['Total']\n",
    "com_mean = pd.DataFrame(com_df.groupby('companies')['revenue'].mean().sort_values(ascending=False))\n",
    "com_mean.columns = ['Average']\n",
    "com_count = pd.DataFrame(com_df.groupby('companies')['revenue'].count().sort_values(ascending=False))\n",
    "com_count.columns = ['Number']\n",
    "\n",
    "com_pivot = pd.concat((com_sum, com_mean, com_count), axis=1)"
   ]
  },
  {
   "cell_type": "markdown",
   "metadata": {
    "_cell_guid": "f15c27ab-f92f-4562-8d7e-aca26e86765f",
    "_uuid": "18dc742a3ba8d21ad40f9ee7adf2a525833fc239"
   },
   "source": [
    "#### Highest Earning Production Companies\n",
    "\n",
    "Let us find out which production companies have earned the most money from the movie making business."
   ]
  },
  {
   "cell_type": "code",
   "execution_count": null,
   "metadata": {
    "_cell_guid": "24d51435-19f1-43a8-9c07-ab8418825b70",
    "_uuid": "17d6a602e5feddde6e01efd033d7f465c4690b6c"
   },
   "outputs": [],
   "source": [
    "com_pivot.sort_values('Total', ascending=False).head(10)"
   ]
  },
  {
   "cell_type": "markdown",
   "metadata": {
    "_cell_guid": "962d0eba-6a06-4287-84c0-9e14af19786d",
    "_uuid": "a115b6f37751ca4bc3972e48c9823d92afd7cb5a"
   },
   "source": [
    "**Warner Bros** is the highest earning production company of all time earning a staggering 63.5 billion dollars from close to 500 movies. **Universal Pictures** and **Paramaount Pictures** are the second and the third highest earning companies with 55 billion dollars and 48 billion dollars in revenue respectively. "
   ]
  },
  {
   "cell_type": "markdown",
   "metadata": {
    "_cell_guid": "8848c20a-8bda-4239-aa9d-6694e052b128",
    "_uuid": "23a2f23bfd659e3f450b0344b997374893f89e2b"
   },
   "source": [
    "#### Most Succesful Production Companies\n",
    "\n",
    "Which production companies produce the most succesful movies on average? Let us find out. We will only consider those companies that have made at least 15 movies."
   ]
  },
  {
   "cell_type": "code",
   "execution_count": null,
   "metadata": {
    "_cell_guid": "b28d172e-46e1-43ea-a02e-c5ba20df1066",
    "_uuid": "459bb5d40dbcff8c383e38693e2ce1370a599e40"
   },
   "outputs": [],
   "source": [
    "com_pivot[com_pivot['Number'] >= 15].sort_values('Average', ascending=False).head(10)"
   ]
  },
  {
   "cell_type": "markdown",
   "metadata": {
    "_cell_guid": "1e60d0fe-c149-48f1-8fe2-c019cd724625",
    "_uuid": "dd2373167b8dc8c0372c32e0256ec8bf7d86660f"
   },
   "source": [
    "**Pixar Animation Studios** has produced the most successful movies, on average. This is not surprising considering the amazing array of movies that it has produced in the last few decades: Up, Finding Nemo, Inside Out, Wall-E, Ratatouille, the Toy Story Franchise, Cars Franchise, etc. **Marvel Studios** with an average gross of 615 million dollars comes in second with movies such as Iron Man and The Avengers under its banner."
   ]
  },
  {
   "cell_type": "markdown",
   "metadata": {
    "_cell_guid": "dcf3ef5e-91bb-4df0-a490-1d0c0c9ae3ad",
    "_uuid": "e54f8e2e90bc025ef1dd649e537ce0f46af3191a"
   },
   "source": [
    "### Original Language\n",
    "\n",
    "In this section, let us look at the languages of the movies in our dataset. From the production countries, we have already deduced that the majority of the movies in the dataset are English. Let us see what the other major languages represented are."
   ]
  },
  {
   "cell_type": "code",
   "execution_count": null,
   "metadata": {
    "_cell_guid": "7add5349-b912-40fd-9e7d-8ee1300e9ae6",
    "_uuid": "1c7d401fa5eec05719f0953cdddd1022e024af2b"
   },
   "outputs": [],
   "source": [
    "df['original_language'].drop_duplicates().shape[0]"
   ]
  },
  {
   "cell_type": "code",
   "execution_count": null,
   "metadata": {
    "_cell_guid": "e04947fa-b909-4b5e-b7b2-42c87770352a",
    "_uuid": "dfde6e6093ed1a82e30ed39d944abf91b952daa2"
   },
   "outputs": [],
   "source": [
    "lang_df = pd.DataFrame(df['original_language'].value_counts())\n",
    "lang_df['language'] = lang_df.index\n",
    "lang_df.columns = ['number', 'language']\n",
    "lang_df.head()"
   ]
  },
  {
   "cell_type": "markdown",
   "metadata": {
    "_cell_guid": "b363fe1c-23eb-45ca-9880-5c4653cae485",
    "_uuid": "3795f361faf123a247b530548e1154f38cbc561a"
   },
   "source": [
    "There are over 93 languages represented in our dataset. As we had expected, English language films form the overwhelmingly majority. French and Italian movies come at a very distant second and third respectively. Let us represent the most popular languages (apart from English) in the form of a bar plot."
   ]
  },
  {
   "cell_type": "code",
   "execution_count": null,
   "metadata": {
    "_cell_guid": "315006c1-1527-41bd-b4c2-e935251f0d4e",
    "_uuid": "032339be3734a6b7445ab2f43688b9fbb9399ce2"
   },
   "outputs": [],
   "source": [
    "plt.figure(figsize=(12,5))\n",
    "sns.barplot(x='language', y='number', data=lang_df.iloc[1:11])\n",
    "plt.show()"
   ]
  },
  {
   "cell_type": "markdown",
   "metadata": {
    "_cell_guid": "bb68e207-6d3d-4f25-8c09-9eb503d88803",
    "_uuid": "a33ad4b636dd9d6361d2dc1bf10ac36c6e5575b9"
   },
   "source": [
    "As mentioned earlier, **French** and **Italian** are the most commonly occurring languages after English. **Japanese** and **Hindi** form the majority as far as Asian Languages are concerned."
   ]
  },
  {
   "cell_type": "markdown",
   "metadata": {
    "_cell_guid": "12cfe022-a78b-4931-ac67-bd5581ae764e",
    "_uuid": "aed427fa7e7aaf0b2b185d41aa62a2987237ec6f"
   },
   "source": [
    "### Popularity, Vote Average and Vote Count\n",
    "\n",
    "In this section, we will work with metrics provided to us by TMDB users. We will try to gain a deeper understanding of the popularity, vote average and vote count features and try and deduce any relationships between them as well as other numeric features such as budget and revenue."
   ]
  },
  {
   "cell_type": "code",
   "execution_count": null,
   "metadata": {
    "_cell_guid": "1a767be2-8c33-4cf7-ac49-02d6bcb4262e",
    "_uuid": "0d53227cb9abef89fcff97d5e479e5611e80a85b"
   },
   "outputs": [],
   "source": [
    "def clean_numeric(x):\n",
    "    try:\n",
    "        return float(x)\n",
    "    except:\n",
    "        return np.nan"
   ]
  },
  {
   "cell_type": "code",
   "execution_count": null,
   "metadata": {
    "_cell_guid": "cad7bb51-9418-44b6-9c0e-c26c5268d543",
    "_uuid": "e91abbcb41a8465887d72e8366497f3fa93b37d8"
   },
   "outputs": [],
   "source": [
    "df['popularity'] = df['popularity'].apply(clean_numeric).astype('float')\n",
    "df['vote_count'] = df['vote_count'].apply(clean_numeric).astype('float')\n",
    "df['vote_average'] = df['vote_average'].apply(clean_numeric).astype('float')"
   ]
  },
  {
   "cell_type": "markdown",
   "metadata": {
    "_cell_guid": "c06bdf7a-7645-4cea-be87-16f8a024786d",
    "_uuid": "0a573f6387eb0b1001baf8f015618ccdd6c7ec67"
   },
   "source": [
    "Let us examine the summary statistics and the distribution of each feature one by one."
   ]
  },
  {
   "cell_type": "code",
   "execution_count": null,
   "metadata": {
    "_cell_guid": "12954262-485e-46c9-836c-997c58b4b506",
    "_uuid": "a05527d6f69584d132623d365f156da05c1dee7d",
    "scrolled": true
   },
   "outputs": [],
   "source": [
    "df['popularity'].describe()"
   ]
  },
  {
   "cell_type": "code",
   "execution_count": null,
   "metadata": {
    "_cell_guid": "60ccf913-8ab4-47b7-8900-fe60e090edae",
    "_uuid": "60acdd311629246104d55efc09fb1ac6c03e3e80",
    "scrolled": true
   },
   "outputs": [],
   "source": [
    "sns.distplot(df['popularity'].fillna(df['popularity'].median()))\n",
    "plt.show()"
   ]
  },
  {
   "cell_type": "code",
   "execution_count": null,
   "metadata": {
    "_cell_guid": "63edfba6-b629-4c7b-a1d8-7200f6d43a07",
    "_uuid": "e3764c3474dcb3641abfdbde6fad0e32ffe74ff9"
   },
   "outputs": [],
   "source": [
    "df['popularity'].plot(logy=True, kind='hist')"
   ]
  },
  {
   "cell_type": "markdown",
   "metadata": {
    "_cell_guid": "2bb0e136-e120-4e13-9246-0ce761829dcd",
    "_uuid": "f255df98c2d9161d84fd19e8af15394c32138857"
   },
   "source": [
    "The Popularity score seems to be an extremely skewed quentity with a mean of only **2.9** but maximum values reaching as high as 547, which is almost 1800% greater than the mean. However, as can be seen from the distribution plot, almost all movies have a popularity score less than 10 (the 75th percentile is at 3.678902)."
   ]
  },
  {
   "cell_type": "markdown",
   "metadata": {
    "_cell_guid": "53352250-97ff-4c0c-b843-4eec80c0f6d1",
    "_uuid": "3ea6e527075e34a03872d8f2158090dfccc4a6a3"
   },
   "source": [
    "#### Most Popular Movies by Popularity Score"
   ]
  },
  {
   "cell_type": "code",
   "execution_count": null,
   "metadata": {
    "_cell_guid": "c4880f12-85c5-43d8-90b7-5e09173633d4",
    "_uuid": "28befa088b26d324e0de9954c2697af7bca08d90"
   },
   "outputs": [],
   "source": [
    "df[['title', 'popularity', 'year']].sort_values('popularity', ascending=False).head(10)"
   ]
  },
  {
   "cell_type": "markdown",
   "metadata": {
    "_cell_guid": "b931f3b8-9a76-4dcd-802d-a44215a70855",
    "_uuid": "3e7a5d15029ce66ffd196db9553253ce0520fe81"
   },
   "source": [
    "**Minions** is the most popular movie by the TMDB Popularity Score. **Wonder Woman** and **Beauty and the Beast**, two extremely successful woman centric movies come in second and third respectively."
   ]
  },
  {
   "cell_type": "code",
   "execution_count": null,
   "metadata": {
    "_cell_guid": "43ba638a-dbef-40f6-a062-6c22f08f5a20",
    "_uuid": "2f2a529b14c412a3cc9a71fa9d75336c565e46a6"
   },
   "outputs": [],
   "source": [
    "df['vote_count'].describe()"
   ]
  },
  {
   "cell_type": "markdown",
   "metadata": {
    "_cell_guid": "e9b8f099-91be-44a1-bc1b-49f5e54a1599",
    "_uuid": "47613cd50d9252525b072913931a2ea48a147ac5"
   },
   "source": [
    "As with popularity scores, the distribution of vote counts is extremely skewed with the median vote count standing at a paltry 10 votes. The most votes a single movie has got stands at 14,075. TMDB Votes, therefore, are not as potent and suggestive as its IMDB Counterpart. Nevertheless, let us check which the most voted on movies on the website are."
   ]
  },
  {
   "cell_type": "markdown",
   "metadata": {
    "_cell_guid": "b96d55e2-dbbd-4975-8ff7-7509b7d65aa0",
    "_uuid": "090119ce528e21d87499640bb9dd1ff826ecc021"
   },
   "source": [
    "#### Most Voted on Movies"
   ]
  },
  {
   "cell_type": "code",
   "execution_count": null,
   "metadata": {
    "_cell_guid": "32ce145d-289f-4ba7-ba20-f6929435a519",
    "_uuid": "7668cc39bb8545a47b81a244c45a44eef5ba9ecb"
   },
   "outputs": [],
   "source": [
    "df[['title', 'vote_count', 'year']].sort_values('vote_count', ascending=False).head(10)"
   ]
  },
  {
   "cell_type": "markdown",
   "metadata": {
    "_cell_guid": "2426138c-4d3d-43cd-a34c-a914f41508fe",
    "_uuid": "dd1f65b95f2ade1e53f547d4eac248e51117b946"
   },
   "source": [
    "**Inception** and **The Dark Knight**, two critically acclaimed and commercially successful Christopher Nolan movies figure at the top of our chart. "
   ]
  },
  {
   "cell_type": "code",
   "execution_count": null,
   "metadata": {
    "_cell_guid": "2ab0efc2-8298-4399-93fb-3965a923e70b",
    "_uuid": "1e8a8ed70897def6bb256b00a28f32ecd49212e0"
   },
   "outputs": [],
   "source": [
    "df['vote_average'] = df['vote_average'].replace(0, np.nan)\n",
    "df['vote_average'].describe()"
   ]
  },
  {
   "cell_type": "code",
   "execution_count": null,
   "metadata": {
    "_cell_guid": "ce5539ee-4014-456d-b982-933fe5540046",
    "_uuid": "6dd3895a7d7bad6c2236b73c285c79922821e609"
   },
   "outputs": [],
   "source": [
    "sns.distplot(df['vote_average'].fillna(df['vote_average'].median()))"
   ]
  },
  {
   "cell_type": "markdown",
   "metadata": {
    "_cell_guid": "69109128-c9b0-435e-8fba-eb347032c12b",
    "_uuid": "808a1aaedd2fc08b4d11cbd9abfd177cf2b615ef"
   },
   "source": [
    "It appears that TMDB Users are extremely strict in their ratings. The mean rating is only a **5.6** on a scale of 10. Half the movies have a rating of less than or equal to 6. Let us check what the most critically acclaimed movies as per TMDB are. We will only consider those movies that have more than 2000 votes (similar to IMDB's criteria of 5000 votes in selecting its top 250)."
   ]
  },
  {
   "cell_type": "markdown",
   "metadata": {
    "_cell_guid": "4c2f266c-50b1-4cc3-a654-c1b4d1983279",
    "_uuid": "27c074b0dbbf9593942a5154583c9b7260988c5a"
   },
   "source": [
    "#### Most Critically Acclaimed Movies"
   ]
  },
  {
   "cell_type": "code",
   "execution_count": null,
   "metadata": {
    "_cell_guid": "cd95b464-b136-4c32-91a2-c878936b211c",
    "_uuid": "59fbdc5942eb1d80331c18c540deffb5c4cf4ddf"
   },
   "outputs": [],
   "source": [
    "df[df['vote_count'] > 2000][['title', 'vote_average', 'vote_count' ,'year']].sort_values('vote_average', ascending=False).head(10)"
   ]
  },
  {
   "cell_type": "markdown",
   "metadata": {
    "_cell_guid": "0220ca6a-03ca-4ea9-97fe-925b62b0f48f",
    "_uuid": "648877e9f41e1c5adba7c6a1b6ed8f6c31258826"
   },
   "source": [
    "**The Shawshank Redemption** and **The Godfather** are the two most critically acclaimed movies in the TMDB Database. Interestingly, they are the top 2 movies in IMDB's Top 250 Movies list too. They have a rating of over 9 on IMDB as compared to their 8.5 TMDB Scores."
   ]
  },
  {
   "cell_type": "markdown",
   "metadata": {
    "_cell_guid": "b668dce2-03ce-45dc-8cb6-f0277e727fba",
    "_uuid": "625dbbed6b661a48be3bafc2c915724476e3c594"
   },
   "source": [
    "Do popularity and vote average share a tangible relationship? In other words, is there a strong positive correlation between these two quanitties? Let us visualise their relationship in the form of a scatterplot."
   ]
  },
  {
   "cell_type": "code",
   "execution_count": null,
   "metadata": {
    "_cell_guid": "646353ff-7883-4cd3-b75f-50d46849bc86",
    "_uuid": "fcceec27a096ce4007d058cb0ebb6070d6dcbb65"
   },
   "outputs": [],
   "source": [
    "sns.jointplot(x='vote_average', y='popularity', data=df)"
   ]
  },
  {
   "cell_type": "markdown",
   "metadata": {
    "_cell_guid": "ad30b899-67bd-4a5e-bc3a-fb927f400a34",
    "_uuid": "e2ff7b115b4763b54de33cb9c056c70d1f7380ca"
   },
   "source": [
    "Surprisingly, the Pearson Coefficient of the two aforementioned quantities is a measly **0.097** which suggests that **there is no tangible correlation**. In other words, popularity and vote average and independent quantities. It would be interesting to discover how TMDB assigns numerical popularity scores to its movies."
   ]
  },
  {
   "cell_type": "code",
   "execution_count": null,
   "metadata": {
    "_cell_guid": "c5a9d0d0-b29b-4f55-a8de-36173c18501f",
    "_uuid": "7605daf2985bce616a30ba1a58774d1df2949a42"
   },
   "outputs": [],
   "source": [
    "sns.jointplot(x='vote_average', y='vote_count', data=df)"
   ]
  },
  {
   "cell_type": "markdown",
   "metadata": {
    "_cell_guid": "41c1b1cc-98b1-4319-8a3b-92aa22647bf6",
    "_uuid": "9c4f7ef1cdbee8b025acde2f32c5a5b715d666cf"
   },
   "source": [
    "There is a very small correlation between Vote Count and Vote Average. A large number of votes on a particular movie does not necessarily imply that the movie is good."
   ]
  },
  {
   "cell_type": "markdown",
   "metadata": {
    "_cell_guid": "735198d6-8e80-4f70-93e9-10e06e0d0c3c",
    "_uuid": "2485b7ecfef955646d549401baaaa25c620c3461"
   },
   "source": [
    "### Movie Release Dates"
   ]
  },
  {
   "cell_type": "markdown",
   "metadata": {
    "_cell_guid": "af794025-5c98-49cc-9d90-65d617e899cc",
    "_uuid": "742b7f123b58a078a5f97f821b49b51b8c260e5a"
   },
   "source": [
    "Release Dates can often play a very important role in determining the success and the revenue generated by a particular movie. In this section, we will try and gain insights about release dates in terms of years, months and days of the week. \n",
    "\n",
    "We have already constructed the **year** feature in our preliminary data wrangling step. Let us now extract the month and day too for each movie with a release date."
   ]
  },
  {
   "cell_type": "code",
   "execution_count": null,
   "metadata": {
    "_cell_guid": "46c2c44b-1c90-4386-950f-999c4f251bcb",
    "_uuid": "6394b891b5bc56ba4e8f40fc2738d366e1636bdf"
   },
   "outputs": [],
   "source": [
    "month_order = ['Jan', 'Feb', 'Mar', 'Apr', 'May', 'Jun', 'Jul', 'Aug', 'Sep', 'Oct', 'Nov', 'Dec']\n",
    "day_order = ['Mon', 'Tue', 'Wed', 'Thu', 'Fri', 'Sat', 'Sun']"
   ]
  },
  {
   "cell_type": "code",
   "execution_count": null,
   "metadata": {
    "_cell_guid": "d0d186f6-ee22-4062-812a-1f2a1bbf27a1",
    "_uuid": "0d756782b22a73630ad4a255a34e347a5fa56406"
   },
   "outputs": [],
   "source": [
    "def get_month(x):\n",
    "    try:\n",
    "        return month_order[int(str(x).split('-')[1]) - 1]\n",
    "    except:\n",
    "        return np.nan"
   ]
  },
  {
   "cell_type": "code",
   "execution_count": null,
   "metadata": {
    "_cell_guid": "bc6821cc-a113-45b3-9372-5596ab7a7216",
    "_uuid": "fd4b983f0a33d912671b396a2bcb327c4c855c28"
   },
   "outputs": [],
   "source": [
    "def get_day(x):\n",
    "    try:\n",
    "        year, month, day = (int(i) for i in x.split('-'))    \n",
    "        answer = datetime.date(year, month, day).weekday()\n",
    "        return day_order[answer]\n",
    "    except:\n",
    "        return np.nan"
   ]
  },
  {
   "cell_type": "code",
   "execution_count": null,
   "metadata": {
    "_cell_guid": "f85706b5-8c08-4ed6-8636-15f4e1ab9bb3",
    "_uuid": "35947e8f6c26efe70be94124a081524ece119190"
   },
   "outputs": [],
   "source": [
    "df['day'] = df['release_date'].apply(get_day)\n",
    "df['month'] = df['release_date'].apply(get_month)"
   ]
  },
  {
   "cell_type": "markdown",
   "metadata": {
    "_cell_guid": "73c4c733-ba82-44aa-ae08-cf85750106aa",
    "_uuid": "b3543ade267eba610b0469e693301b0d51c20fe6"
   },
   "source": [
    "With these features in hand, let us now check the most popular and most successful months and days."
   ]
  },
  {
   "cell_type": "code",
   "execution_count": null,
   "metadata": {
    "_cell_guid": "fad96ef0-e06a-46b4-9e15-be209d591ca9",
    "_uuid": "09e8654d65fee15bc758a591b58bbaa4ed73fd8a"
   },
   "outputs": [],
   "source": [
    "plt.figure(figsize=(12,6))\n",
    "plt.title(\"Number of Movies released in a particular month.\")\n",
    "sns.countplot(x='month', data=df, order=month_order)"
   ]
  },
  {
   "cell_type": "markdown",
   "metadata": {
    "_cell_guid": "1187211a-e368-4989-8b44-1b01121e15f2",
    "_uuid": "6e3d94500f4b4150b9e28a806a78c45c805e5876"
   },
   "source": [
    "It appears that **January** is the most popular month when it comes to movie releases. In Hollywood circles, this is also known as the *the dump month* when sub par movies are released by the dozen. \n",
    "\n",
    "In which months do bockbuster movies tend to release? To answer this question, we will consider all movies that have made in excess of 100 million dollars and calculate the average gross for each month."
   ]
  },
  {
   "cell_type": "code",
   "execution_count": null,
   "metadata": {
    "_cell_guid": "a2bb569b-fdc2-4ad9-a0af-429a29690668",
    "_uuid": "3af6c851ffa4f4771ee7ab7990833c578f6f69e9"
   },
   "outputs": [],
   "source": [
    "month_mean = pd.DataFrame(df[df['revenue'] > 1e8].groupby('month')['revenue'].mean())\n",
    "month_mean['mon'] = month_mean.index\n",
    "plt.figure(figsize=(12,6))\n",
    "plt.title(\"Average Gross by the Month for Blockbuster Movies\")\n",
    "sns.barplot(x='mon', y='revenue', data=month_mean, order=month_order)"
   ]
  },
  {
   "cell_type": "markdown",
   "metadata": {
    "_cell_guid": "d55e6e8e-6b02-4725-a577-15f90c379f03",
    "_uuid": "c7aab4628c3abb43279149287aa573e32325b875"
   },
   "source": [
    "We see that the months of **April**, **May** and **June** have the highest average gross among high grossing movies. This can be attributed to the fact that blockbuster movies are usually released in the summer when the kids are out of school and the parents are on vacation and therefore, the audience is more likely to spend their disposable income on entertainment.\n",
    "\n",
    "Do some months tend to be more successful than others? Let us visualise the boxplot between the return and the months."
   ]
  },
  {
   "cell_type": "code",
   "execution_count": null,
   "metadata": {
    "_cell_guid": "5b0f3988-4e0d-4471-9084-6a01cf8324ef",
    "_uuid": "a2ae57b72346929ff61e62254f3654b68c4a05e0"
   },
   "outputs": [],
   "source": [
    "fig, ax = plt.subplots(nrows=1, ncols=1,figsize=(15, 8))\n",
    "sns.boxplot(x='month', y='return', data=df[df['return'].notnull()], palette=\"muted\", ax =ax, order=month_order)\n",
    "ax.set_ylim([0, 12])"
   ]
  },
  {
   "cell_type": "markdown",
   "metadata": {
    "_cell_guid": "968658b2-f017-40dc-baf7-0cc50e1aa4fa",
    "_uuid": "7f83fe4c32162926cea43a4f3c5dbf7e2b72d78c"
   },
   "source": [
    "The months of **June** and **July** tend to yield the highest median returns. **September** is the least successful months on the aforementioned metrics. Again, the success of June and July movies can be attributed to them being summer months and times of vacation. September usually denotes the beginning of the school/college semester and hence a slight reduction in the consumption of movies.\n",
    "\n",
    "Let us now have a look at the most popular days as we did for months."
   ]
  },
  {
   "cell_type": "code",
   "execution_count": null,
   "metadata": {
    "_cell_guid": "3a87cdf2-b089-4a66-80fa-3a6ea9080686",
    "_uuid": "b6b989648a93bbdb6d087e1f4395a8573e3703f4"
   },
   "outputs": [],
   "source": [
    "plt.figure(figsize=(10,5))\n",
    "plt.title(\"Number of Movies released on a particular day.\")\n",
    "sns.countplot(x='day', data=df, order=day_order)"
   ]
  },
  {
   "cell_type": "markdown",
   "metadata": {
    "_cell_guid": "901b80a4-46e0-4489-9c99-a020ef5a729f",
    "_uuid": "047cd5552effeba8f14a6e619d57a2bd0d30a3de"
   },
   "source": [
    "**Friday** is clearly the most popular day for movie releases. This is understandable considering the fact that it usually denotes the beginning of the weekend. **Sunday** and **Monday** are the least popular days and this can be attributed to the same aforementioned reason."
   ]
  },
  {
   "cell_type": "markdown",
   "metadata": {
    "_cell_guid": "a981f5a1-ce0c-4ac6-93e4-297a95913490",
    "_uuid": "84f1b62f38e6bc9c2eec94f3a51d00ebabdbf5c0"
   },
   "source": [
    "#### Number of Movies by the year\n",
    "\n",
    "The Dataset of 45,000 movies available to us does not represent the entire corpus of movies released since the inception of cinema. However, it is reasomnable to assume that it does include almost every major film released in Hollywood as well as other major film industries across the world (such as Bollywood in India). With this assumption in mind, let us take a look at the number of movies produced by the year."
   ]
  },
  {
   "cell_type": "code",
   "execution_count": null,
   "metadata": {
    "_cell_guid": "b07ceb4c-321f-4ecc-9070-dc3ca83b5d4e",
    "_uuid": "0ab7ca5c222ab181f1256e86b33c2e028bbb0e50"
   },
   "outputs": [],
   "source": [
    "year_count = df.groupby('year')['title'].count()\n",
    "plt.figure(figsize=(18,5))\n",
    "year_count.plot()"
   ]
  },
  {
   "cell_type": "markdown",
   "metadata": {
    "_cell_guid": "9dc38ede-e37e-42df-9e8b-8bda0b694b32",
    "_uuid": "d15a8dbe6380440bcc4abe5dde6f1855c1891236"
   },
   "source": [
    "We notice that there is a sharp rise in the number of movies **starting the 1990s decade.** However, we will not look too much into this as it is entirely possible that recent movies were oversampled for the purposes of this dataset.\n",
    "\n",
    "Next, let us take a look at the earliest movies represented in the dataset.\n",
    "\n",
    "#### Earliest Movies Represented"
   ]
  },
  {
   "cell_type": "code",
   "execution_count": null,
   "metadata": {
    "_cell_guid": "cc403fdf-81d4-43c2-b50b-c716b5ad7832",
    "_uuid": "60d538c424565e73f234d609de9d246e2a938f72"
   },
   "outputs": [],
   "source": [
    "df[df['year'] != 'NaT'][['title', 'year']].sort_values('year').head(10)"
   ]
  },
  {
   "cell_type": "markdown",
   "metadata": {
    "_cell_guid": "e3273f8c-097d-44cc-8ccd-f707fc8073b7",
    "_uuid": "86e64d94e161f3e568edb28039a1ae53be61f14f"
   },
   "source": [
    "The oldest movie, **Passage of Venus**, wss a series of photographs of the transit of the planet Venus across the Sun in 1874. They were taken in Japan by the French astronomer Pierre Janssen using his 'photographic revolver'. This is also the oldest movie on both IMDB and TMDB."
   ]
  },
  {
   "cell_type": "markdown",
   "metadata": {
    "_cell_guid": "fa51f039-08ab-40a4-a4e8-e61597243469",
    "_uuid": "d2a3be6473f0ac6eca093e43fe8460345178fd1f"
   },
   "source": [
    "Finally, in this section, let us construct a heatmap to indicate movie releases by month and year for all movies released in this century. This will give us a good idea of the *hot* and *cold* months for movie buffs."
   ]
  },
  {
   "cell_type": "code",
   "execution_count": null,
   "metadata": {
    "_cell_guid": "62bbd924-f428-4191-b459-550834ac36ef",
    "_uuid": "5cb3411e24dba5ca1a1ec9a01e6f145864558627"
   },
   "outputs": [],
   "source": [
    "months = {'Jan': 1, 'Feb': 2, 'Mar': 3, 'Apr': 4, 'May': 5, 'Jun': 6, 'Jul': 7, 'Aug': 8, 'Sep': 9, 'Oct': 10, 'Nov': 11, 'Dec': 12}"
   ]
  },
  {
   "cell_type": "code",
   "execution_count": null,
   "metadata": {
    "_cell_guid": "f2dfec95-b96a-483f-9609-c0c4462736d1",
    "_uuid": "3f47c5630e9ba1988028fdb331fd52d3b983d15d"
   },
   "outputs": [],
   "source": [
    "df_21 = df.copy()\n",
    "df_21['year'] = df_21[df_21['year'] != 'NaT']['year'].astype(int)\n",
    "df_21 = df_21[df_21['year'] >=2000]\n",
    "hmap_21 = pd.pivot_table(data=df_21, index='month', columns='year', aggfunc='count', values='title')\n",
    "hmap_21 = hmap_21.fillna(0)"
   ]
  },
  {
   "cell_type": "code",
   "execution_count": null,
   "metadata": {
    "_cell_guid": "74809f3f-3c90-45ce-81e2-41d774dcc615",
    "_uuid": "c3ff5f257c77fc3e260bb086b1240d9c17421122"
   },
   "outputs": [],
   "source": [
    "sns.set(font_scale=1)\n",
    "f, ax = plt.subplots(figsize=(16, 8))\n",
    "sns.heatmap(hmap_21, annot=True, linewidths=.5, ax=ax, fmt='n', yticklabels=month_order)"
   ]
  },
  {
   "cell_type": "code",
   "execution_count": null,
   "metadata": {
    "_cell_guid": "103e4f49-5a5f-4549-9f9d-06649e4e9c85",
    "_uuid": "aea4a5b68b7c798ef26d67b03ec3a22eb49e42c3"
   },
   "outputs": [],
   "source": [
    "sns.set(font_scale=1.25)"
   ]
  },
  {
   "cell_type": "markdown",
   "metadata": {
    "_cell_guid": "fe5ef8d2-f5aa-4c00-8206-43e342d6e0f3",
    "_uuid": "a539ac4a284de90317e97c306557ac4287f8d6a4"
   },
   "source": [
    "### Movie Status\n",
    "\n",
    "Although not entirely relevant to our analysis of movies, gathering information on the various kinds of movies based on their status of release can provide us interesitng insight on the nature of the movies present in our dataset. My preliminary hunch was that almost every movie has the **Released** status. Let's find out."
   ]
  },
  {
   "cell_type": "code",
   "execution_count": null,
   "metadata": {
    "_cell_guid": "dca7c9d7-c75b-479e-b359-9bc5449538ee",
    "_uuid": "a72264e5be22a3410340ad0b3260087fbf0d4493"
   },
   "outputs": [],
   "source": [
    "df['status'].value_counts()"
   ]
  },
  {
   "cell_type": "markdown",
   "metadata": {
    "_cell_guid": "3267d23b-4866-4b5e-ab76-ed6c8d7cb8a0",
    "_uuid": "b21612c2a2ec3743b96cc55dbdfa9a5f0cd1d7e4"
   },
   "source": [
    "Almost every movie is indeed released. However, it is interesting to see that MovieLens has user ratings for movies that are still in the planning, production and post production stage. We might take this information into account while building our collaborative filtering recommendation engine."
   ]
  },
  {
   "cell_type": "markdown",
   "metadata": {
    "_cell_guid": "1ca16df7-6cdd-47fa-a7dc-c4a066dde55e",
    "_uuid": "5aab5e480133173d72ca3d8c1954d8ad4ac7de2a"
   },
   "source": [
    "### Spoken Languages\n",
    "\n",
    "Does the number of spoken languages influence the success of a movie? To do this, we will convert our **spoken_languages** feature to a numeric feature denoting the number of languages spoken in that film."
   ]
  },
  {
   "cell_type": "code",
   "execution_count": null,
   "metadata": {
    "_cell_guid": "76ea778e-bdb1-422a-8422-b8b4092578e2",
    "_uuid": "3d0588c454a05b8641a619e8e909011709386dc1"
   },
   "outputs": [],
   "source": [
    "df['spoken_languages'] = df['spoken_languages'].fillna('[]').apply(ast.literal_eval).apply(lambda x: len(x) if isinstance(x, list) else np.nan)"
   ]
  },
  {
   "cell_type": "code",
   "execution_count": null,
   "metadata": {
    "_cell_guid": "78d4b4a7-4af4-42ef-96dc-573275f73cbc",
    "_uuid": "cd8a1d528e4289d06faa221234b14d3610d692df"
   },
   "outputs": [],
   "source": [
    "df['spoken_languages'].value_counts()"
   ]
  },
  {
   "cell_type": "markdown",
   "metadata": {
    "_cell_guid": "ba094243-2649-48a0-81ca-4779ca7f304a",
    "_uuid": "d1051e3b8aa98b1f31ae7b4207032faf0bba0d4b"
   },
   "source": [
    "Most movies have just one language spoken in the entire duration of the film. **19** is the higest number of languages spoken in a film. Let us take a look at all the films with more than 10 spoken languages."
   ]
  },
  {
   "cell_type": "code",
   "execution_count": null,
   "metadata": {
    "_cell_guid": "db62f96e-d805-40b1-b406-0960941bc7d7",
    "_uuid": "841bc44a4fef74917faab6339ad5e9276ca5f885"
   },
   "outputs": [],
   "source": [
    "df[df['spoken_languages'] >= 10][['title', 'year', 'spoken_languages']].sort_values('spoken_languages', ascending=False)"
   ]
  },
  {
   "cell_type": "markdown",
   "metadata": {
    "_cell_guid": "e107ea1f-c584-4781-b066-53363e532a98",
    "_uuid": "6247e3fd730d378974923f3ca8182d0305388bd1"
   },
   "source": [
    "The movie with the most number of languages, **Visions of Europe** is actually a collection of 25 short films by 25 different European directors. This explains the sheer diversity of the movie in terms of language."
   ]
  },
  {
   "cell_type": "code",
   "execution_count": null,
   "metadata": {
    "_cell_guid": "33cf425d-60c1-43ee-b467-0aa790d6802a",
    "_uuid": "aede7fa16240afdb58c032b39182bce01da60da2"
   },
   "outputs": [],
   "source": [
    "sns.jointplot(x=\"spoken_languages\", y=\"return\", data=df, stat_func=stats.spearmanr, color=\"m\")"
   ]
  },
  {
   "cell_type": "markdown",
   "metadata": {
    "_cell_guid": "526a3c14-c318-41f7-9fe6-325b30eb216f",
    "_uuid": "85109f3320bf208492b231d66dad89d48f7d2299"
   },
   "source": [
    "The **Spearman Coefficient** is 0.018 indicating no correlation between the two quantities."
   ]
  },
  {
   "cell_type": "markdown",
   "metadata": {
    "_cell_guid": "4820b7d7-7273-44ec-8d97-5be9d6f621b0",
    "_uuid": "2a56635c62be47fac6292b4b177ffc7fa28aec32"
   },
   "source": [
    "### Runtime\n",
    "\n",
    "From its humble beginnings of 1 minute slient, black & white clips to epic 3 hour visual delights, movies have a come a long way in terms of runtime. In this section, let us try and gain some additional insights about the nature of movie lengths and their evolution over time."
   ]
  },
  {
   "cell_type": "code",
   "execution_count": null,
   "metadata": {
    "_cell_guid": "bb8a75ed-eadd-4079-912c-88344b32232c",
    "_uuid": "29aa8af83f6e3aa0ab11904a24869f857aeb310e"
   },
   "outputs": [],
   "source": [
    "df['runtime'].describe()"
   ]
  },
  {
   "cell_type": "markdown",
   "metadata": {
    "_cell_guid": "cc28fd3a-399a-424b-b965-d0d73a6b5dc8",
    "_uuid": "e3460882b491150907aff00cab2332dd3eeffdef"
   },
   "source": [
    "The average length of a movie is about 1 hour and 30 minutes. The longest movie on record in this dataset is a **staggering 1256 minutes (or 20 hours) long.**"
   ]
  },
  {
   "cell_type": "code",
   "execution_count": null,
   "metadata": {
    "_cell_guid": "1c55c803-3296-4de8-b38e-dd9c5b63590e",
    "_uuid": "84207eef3b6992ce4ba61886498de3340cfe43a4"
   },
   "outputs": [],
   "source": [
    "df['runtime'] = df['runtime'].astype('float')"
   ]
  },
  {
   "cell_type": "markdown",
   "metadata": {
    "_cell_guid": "7f4d372f-aa9f-4cd0-b92d-0e220c431586",
    "_uuid": "8f60cf8059ed414e5aa2192e3521e60a909bfb21"
   },
   "source": [
    "We are aware that most movies are less than 5 hours (or 300 minutes) long. Let us plot a distribution of these mainstream movies."
   ]
  },
  {
   "cell_type": "code",
   "execution_count": null,
   "metadata": {
    "_cell_guid": "071b5052-317a-410f-aad1-fcce106282bd",
    "_uuid": "22979718c38e9c8509d98de957704a38272eefbf"
   },
   "outputs": [],
   "source": [
    "plt.figure(figsize=(12,6))\n",
    "sns.distplot(df[(df['runtime'] < 300) & (df['runtime'] > 0)]['runtime'])"
   ]
  },
  {
   "cell_type": "markdown",
   "metadata": {
    "_cell_guid": "15ef829d-9607-4962-9e8e-e85cfabbfaaf",
    "_uuid": "f36ffa4b80b3e3866e8ffa0e8790bdec9e2420de"
   },
   "source": [
    "Is there any meaningful relationship between runtime and return? Let us find out!"
   ]
  },
  {
   "cell_type": "code",
   "execution_count": null,
   "metadata": {
    "_cell_guid": "8edfebea-a06e-4e0b-8f55-f1e7986c3fce",
    "_uuid": "65c04b00e04f67fe728b6873b59f17c273445551"
   },
   "outputs": [],
   "source": [
    "df_mat = df[(df['return'].notnull()) & (df['runtime'] > 0) & (df['return'] < 10)]\n",
    "sns.jointplot('return', 'runtime', data=df_mat)\n",
    "plt.show()"
   ]
  },
  {
   "cell_type": "markdown",
   "metadata": {
    "_cell_guid": "4410d082-ac6b-4c23-a58a-324ef7bdf976",
    "_uuid": "10560abbe5b6973a516caa9493245c9839c48a52"
   },
   "source": [
    "There seems to be relationship between the two quantities. **The duration of a movie is independent of its success.** However, I have a feeling this might not be the case with duration and budget. A longer movie should entail a higher budget. Let us find out if this is really the case."
   ]
  },
  {
   "cell_type": "code",
   "execution_count": null,
   "metadata": {
    "_cell_guid": "9e9b5a33-d0c7-426c-a924-7bebee130774",
    "_uuid": "e34127a778e6581a3b8f7a4bd418553b0b827f8d"
   },
   "outputs": [],
   "source": [
    "df_mat = df[(df['budget'].notnull()) & (df['runtime'] > 0)]\n",
    "sns.jointplot('budget', 'runtime', data=df_mat)\n",
    "plt.show()"
   ]
  },
  {
   "cell_type": "markdown",
   "metadata": {
    "_cell_guid": "b73cdc0c-8fc2-4732-8a93-26909b895e75",
    "_uuid": "5d167eb6508fb8e27c5c5f35d9b4a78626d5c9c5"
   },
   "source": [
    "The two quantities have a much weaker correlation than I had expected. In retrospect, the genre of the movie tends to have a much greater impact on budget. A 3 hour art film will cost significantly lesser than a 90 minute Sci-Fi movie. \n",
    "\n",
    "Next, I'd like to see the average lengths of movies through time, right from the 1890s to the 2017s. It would be interesting to see the trends in what filmmakers adjudged would be the appropriate length of a movie at that time."
   ]
  },
  {
   "cell_type": "code",
   "execution_count": null,
   "metadata": {
    "_cell_guid": "f0755db5-743f-49a1-8d33-5300f751be6a",
    "_uuid": "2a330792c28467af661a2c8e15174efe7deb2f34"
   },
   "outputs": [],
   "source": [
    "plt.figure(figsize=(18,5))\n",
    "year_runtime = df[df['year'] != 'NaT'].groupby('year')['runtime'].mean()\n",
    "plt.plot(year_runtime.index, year_runtime)\n",
    "plt.xticks(np.arange(1874, 2024, 10.0))\n",
    "plt.show()"
   ]
  },
  {
   "cell_type": "markdown",
   "metadata": {
    "_cell_guid": "66a95308-b2f0-4f50-8b21-f7e54bd6f23e",
    "_uuid": "1585f2d1e8977c3692ed5f293b749e2cfd38b743"
   },
   "source": [
    "We notice that films started hitting the **60 minute mark as early as 1914**. Starting **1924**, films started having the traiditonal 90 minute duration and has remained more or less constant ever since.\n",
    "\n",
    "Finally in this section, let us see the longest and the shortest movies of all time (with respect to the movies in the dataset). "
   ]
  },
  {
   "cell_type": "markdown",
   "metadata": {
    "_cell_guid": "e91e7188-e730-442e-99f2-7d5690371cd8",
    "_uuid": "9f7e9d38ec20e748a21267db8569db63a73765c4"
   },
   "source": [
    "#### Shortest Movies"
   ]
  },
  {
   "cell_type": "code",
   "execution_count": null,
   "metadata": {
    "_cell_guid": "36d0463b-1d0e-4abd-9d8e-a5b89b2238ef",
    "_uuid": "b8f571943ca30d0dbe04308c24ba625f4ef4f812"
   },
   "outputs": [],
   "source": [
    "df[df['runtime'] > 0][['runtime', 'title', 'year']].sort_values('runtime').head(10)"
   ]
  },
  {
   "cell_type": "markdown",
   "metadata": {
    "_cell_guid": "4d464763-30a0-4ceb-9568-5543a12043cf",
    "_uuid": "d046f3918846a6d5920a594765a48cfe23a0911e"
   },
   "source": [
    "We see that every movie in this list except **A Gathering of Cats** were filmed in the late 1890s and the beginning of the 20th century. All these movies were one minute long."
   ]
  },
  {
   "cell_type": "markdown",
   "metadata": {
    "_cell_guid": "3edc7c2b-bb24-4ef0-88bd-aa36f95d8f6d",
    "_uuid": "a0d81802f7093c92f756d644534b7be26e4e8ed7"
   },
   "source": [
    "#### Longest Movies"
   ]
  },
  {
   "cell_type": "code",
   "execution_count": null,
   "metadata": {
    "_cell_guid": "aa638695-15c3-4a9c-969d-3d626f8dba9c",
    "_uuid": "60e8fac12d4e930920ee175f1a0cb227b68e6741"
   },
   "outputs": [],
   "source": [
    "df[df['runtime'] > 0][['runtime', 'title', 'year']].sort_values('runtime', ascending=False).head(10)"
   ]
  },
  {
   "cell_type": "markdown",
   "metadata": {
    "_cell_guid": "1b0521c9-f6be-427e-bfa7-0a06bcdfdfe2",
    "_uuid": "1e3655f1d530112d74e984123406cb0c4f473e0c"
   },
   "source": [
    "We notice that almost all the entries in the above chart are actually miniseries and hence, do not count as feature length films. We cannot gather too much insight from this list of longest movies as there is no way of distinguishing feature length films from TV Mini Series from our dataset (except, of course, by doing it manually)."
   ]
  },
  {
   "cell_type": "markdown",
   "metadata": {
    "_cell_guid": "973c392d-1b3c-4eb6-9d58-b36d95defd95",
    "_uuid": "0a7178d0d3c7f7d97ce05785455a57072a54e72c"
   },
   "source": [
    "### Budget\n",
    "\n",
    "Let us now turn our attention to budget. We expect budgets to be a skewed quantity and also heavily influenced by inflation. Nevertheless, it would be interesting to gather as much insights as possible from this quantity as budget is often a critical feature in predicting movie revenue and success. As a start, let us gather the summary statistics for our budget."
   ]
  },
  {
   "cell_type": "code",
   "execution_count": null,
   "metadata": {
    "_cell_guid": "8936d6a0-cf2b-4984-8236-a89ecfeb9741",
    "_uuid": "cb4d55a476ad5102a95538ec344aab0cdf0f8562"
   },
   "outputs": [],
   "source": [
    "df['budget'].describe()"
   ]
  },
  {
   "cell_type": "markdown",
   "metadata": {
    "_cell_guid": "9d074e94-af91-4dff-897a-2454b4d23f62",
    "_uuid": "6fccc0fe260ce2c0090653eb94c57b6cb56a3bba"
   },
   "source": [
    "The mean budget of a film is 21.6 million dollars whereas the median budget is far smaller at 8 million dollars. This strongly suggests the mean being influenced by outliers. "
   ]
  },
  {
   "cell_type": "code",
   "execution_count": null,
   "metadata": {
    "_cell_guid": "8e534e6c-2a2d-48f7-a3bf-0020c10262dd",
    "_uuid": "216d4274bb3f7b72dfa04078bd9276bc677a2039",
    "scrolled": true
   },
   "outputs": [],
   "source": [
    "sns.distplot(df[df['budget'].notnull()]['budget'])"
   ]
  },
  {
   "cell_type": "code",
   "execution_count": null,
   "metadata": {
    "_cell_guid": "5d439a6e-b295-4c4d-8060-2b5867c4df0d",
    "_uuid": "5dd3be43c14e38e428e538f4a737f867d707b57c"
   },
   "outputs": [],
   "source": [
    "df['budget'].plot(logy=True, kind='hist')"
   ]
  },
  {
   "cell_type": "markdown",
   "metadata": {
    "_cell_guid": "c157818c-4ad8-4879-8add-f2e160ee363f",
    "_uuid": "d1dbae3ca61319ed5838de027fac656bbe5b4a3b"
   },
   "source": [
    "The distribution of movie budgets shows an exponential decay. More than 75% of the movies have a budget smaller than 25 million dollars. Next, let us take a look at the most expensive movies of all time and the revenue & returns that they generated."
   ]
  },
  {
   "cell_type": "markdown",
   "metadata": {
    "_cell_guid": "4dc2ca6c-dc9f-4244-90dc-1ec8067ff7b8",
    "_uuid": "076d0c2ccfeffffe2ce54be8934d37bb60a98e2f"
   },
   "source": [
    "#### Most Expensive Movies of all Time"
   ]
  },
  {
   "cell_type": "code",
   "execution_count": null,
   "metadata": {
    "_cell_guid": "a6b737fe-570c-486e-a811-7e02e803bbe3",
    "_uuid": "4a9d68e7869844179914ebb60f7f386b239a1f5c"
   },
   "outputs": [],
   "source": [
    "df[df['budget'].notnull()][['title', 'budget', 'revenue', 'return', 'year']].sort_values('budget', ascending=False).head(10)"
   ]
  },
  {
   "cell_type": "markdown",
   "metadata": {
    "_cell_guid": "f68e29de-3857-4be3-ad19-ae90393a1940",
    "_uuid": "52791f360f22724698a6afdd91372013d4e6a5ba"
   },
   "source": [
    "Two **Pirates of the Carribean** films occupy the top spots in this list with a staggering budget of over **300 million dollars**. All the top 10 most expensive films made a profit on their investment except for **The Lone Ranger** which managed to recoup less than 35% of its investment, taking in a paltry 90 million dollars on a **255 million dollar** budget.\n",
    "\n",
    "How strong a correlation does the budget hold with the revenue? A stronger correlation would directly imply more accurate forecasts."
   ]
  },
  {
   "cell_type": "code",
   "execution_count": null,
   "metadata": {
    "_cell_guid": "4d4b937b-b6a0-466b-b8e4-c49b4d64b719",
    "_uuid": "e1db305191166e586393edd05d9699bceda7abf3"
   },
   "outputs": [],
   "source": [
    "sns.jointplot(x='budget',y='revenue',data=df[df['return'].notnull()])"
   ]
  },
  {
   "cell_type": "markdown",
   "metadata": {
    "_cell_guid": "377c7d05-9ab7-490e-bc3c-943bd9481a19",
    "_uuid": "c403b9e2e6a8fef0d4cf27d66e22165c530db1cc"
   },
   "source": [
    "The pearson r value of **0.73** between the two quantities indicates a very strong correlation. "
   ]
  },
  {
   "cell_type": "markdown",
   "metadata": {
    "_cell_guid": "87ee5867-b99c-4ff6-a6f9-9788eb354b09",
    "_uuid": "947fd82c2d8b61bb7ab0d94991b9af10590a2469"
   },
   "source": [
    "### Revenue\n",
    "\n",
    "The final numeric feature we will explore is the revenue. The revenue is probably the most important numeric quantity associated with a movie. We will try to predict the revenue for movies given a set of features in a later section. The treatment of revenue will be very similar to that of budget and we will once again begin by studying the summary statistics."
   ]
  },
  {
   "cell_type": "code",
   "execution_count": null,
   "metadata": {
    "_cell_guid": "7bc42ec6-3030-42f5-b17f-94b2567891b1",
    "_uuid": "83f453559edfd8d8012080484c468f8805b1bbd1"
   },
   "outputs": [],
   "source": [
    "df['revenue'].describe()"
   ]
  },
  {
   "cell_type": "markdown",
   "metadata": {
    "_cell_guid": "520e6668-ffbf-40db-9190-d4d79ff86046",
    "_uuid": "98e5c879aeb5639834f4e7162af98bd4c87f3bfe"
   },
   "source": [
    "The mean gross of a movie is **68.7 million dollars** whereas the median gross is much lower at **16.8 million dollars**, suggesting the skewed nature of revenue. The lowest revenue generated by a movie is **just 1 dollar** whereas the highest grossing movie of all time has raked in an astonishing **2.78 billion dollars.*"
   ]
  },
  {
   "cell_type": "code",
   "execution_count": null,
   "metadata": {
    "_cell_guid": "b04463a0-b0d0-4eb4-b017-899fac835689",
    "_uuid": "85478f240d6454c2a1ea23a7b412d2b6803b4734"
   },
   "outputs": [],
   "source": [
    "sns.distplot(df[df['revenue'].notnull()]['revenue'])"
   ]
  },
  {
   "cell_type": "markdown",
   "metadata": {
    "_cell_guid": "006da2cb-ecd6-4567-9c51-30c5f77294a0",
    "_uuid": "7abe539e5927782843de37c5964cc72a3645b545"
   },
   "source": [
    "The distribution of revenue undergoes exponential decay just like budget. We also found that the two quantities were strongly correlated. Let us now take a look at the highest and least grossing movies of all time."
   ]
  },
  {
   "cell_type": "markdown",
   "metadata": {
    "_cell_guid": "ae48257b-980d-4627-95e5-ca4773523277",
    "_uuid": "19adf31cf13438dc4e17c23d65d2570dcc0d2a15"
   },
   "source": [
    "#### Highest Grossing Films of All Time"
   ]
  },
  {
   "cell_type": "code",
   "execution_count": null,
   "metadata": {
    "_cell_guid": "1c1dc39c-163c-412f-8230-48ccfe143e67",
    "_uuid": "c78514a455932dcd1f700bd4bb1caf668fa6eeac"
   },
   "outputs": [],
   "source": [
    "gross_top = df[['poster_img', 'title', 'budget', 'revenue', 'year']].sort_values('revenue', ascending=False).head(10)\n",
    "pd.set_option('display.max_colwidth', 100)\n",
    "HTML(gross_top.to_html(escape=False))"
   ]
  },
  {
   "cell_type": "code",
   "execution_count": null,
   "metadata": {
    "_cell_guid": "83c8e1cd-5c2a-490a-95ad-a0ae27121c5f",
    "_uuid": "64a4586282d32d29d3eb48cfcea178f9260f26d0"
   },
   "outputs": [],
   "source": [
    "pd.set_option('display.max_colwidth', 50)"
   ]
  },
  {
   "cell_type": "markdown",
   "metadata": {
    "_cell_guid": "4cd3f8d9-aa0d-43a2-9f56-c5c1f4a47e6b",
    "_uuid": "c77bab0404c1fbdca5b398d23f08f287949e81ac"
   },
   "source": [
    "These figures have not been adjusted for inflation. Therefore, we see a disproportionate number of movies from very recent times in the top 10 list. To get an understanding of the revenue garnered by movies, let us plot the maximum revenue through the years."
   ]
  },
  {
   "cell_type": "code",
   "execution_count": null,
   "metadata": {
    "_cell_guid": "4efc6761-0de7-4baf-a435-3b99035eaa6d",
    "_uuid": "8b358017fa1c30ca35fd33765a7940c8aac99619"
   },
   "outputs": [],
   "source": [
    "plt.figure(figsize=(18,5))\n",
    "year_revenue = df[(df['revenue'].notnull()) & (df['year'] != 'NaT')].groupby('year')['revenue'].max()\n",
    "plt.plot(year_revenue.index, year_revenue)\n",
    "plt.xticks(np.arange(1874, 2024, 10.0))\n",
    "plt.show()"
   ]
  },
  {
   "cell_type": "markdown",
   "metadata": {
    "_cell_guid": "c3cc47fd-d786-4fb4-b7c4-2ae72b0f4f63",
    "_uuid": "42eedce59addcbf93794f4ccda13cf9c2f3ffc60"
   },
   "source": [
    "As can be seen from the figure, the maximum gross has steadily risen over the years. The world of movies broke the 1 billion dollar mark in 1997 with the release of **Titanic**. It took another 12 years to break the 2 billion dollar mark with **Avatar**. Both these movies were directed by James Cameron."
   ]
  },
  {
   "cell_type": "markdown",
   "metadata": {
    "_cell_guid": "79469a30-3f0e-43be-a80d-43ecc363952d",
    "_uuid": "f248e9cc7ef017ed7273459d089c409dd79d2cfb"
   },
   "source": [
    "### Returns\n",
    "\n",
    "We will not look too much into returns for the time being. Let us just check the least and the most successful movies of all time. To do this, we will only consider those movies which have a budget greater than 5 million dollars."
   ]
  },
  {
   "cell_type": "markdown",
   "metadata": {
    "_cell_guid": "f9d2a37d-02fa-48e9-956f-d0b864d6edd2",
    "_uuid": "f270dcae61117fc070b20d5ef85af06dbef6e432"
   },
   "source": [
    "#### Most Successful Movies"
   ]
  },
  {
   "cell_type": "code",
   "execution_count": null,
   "metadata": {
    "_cell_guid": "9cef8512-7e7b-4151-b781-36cf795a12a4",
    "_uuid": "7fc9f3fad7d0a850d11a332dcd69f9c1e6a9cb91"
   },
   "outputs": [],
   "source": [
    "df[(df['return'].notnull()) & (df['budget'] > 5e6)][['title', 'budget', 'revenue', 'return', 'year']].sort_values('return', ascending=False).head(10)"
   ]
  },
  {
   "cell_type": "markdown",
   "metadata": {
    "_cell_guid": "4887ae53-a546-4e93-bd17-6323b4dd631e",
    "_uuid": "019af8df28340df84df3c52c4df06eba1a43ea4b"
   },
   "source": [
    "#### Worst Box Office Disasters"
   ]
  },
  {
   "cell_type": "code",
   "execution_count": null,
   "metadata": {
    "_cell_guid": "42dd475f-f83b-4278-b505-5366d240dad5",
    "_uuid": "0befee4902682b9a42d355617e61c275bb25cd34"
   },
   "outputs": [],
   "source": [
    "df[(df['return'].notnull()) & (df['budget'] > 5e6) & (df['revenue'] > 10000)][['title', 'budget', 'revenue', 'return', 'year']].sort_values('return').head(10)"
   ]
  },
  {
   "cell_type": "markdown",
   "metadata": {
    "_cell_guid": "a2279dab-db2f-4c0b-ac83-daa9651a389f",
    "_uuid": "ef7b2b19971f3d536148720b8f2db6c70916f35b"
   },
   "source": [
    "With these analyses in place, we are in a good position to construct our correlation matrix."
   ]
  },
  {
   "cell_type": "code",
   "execution_count": null,
   "metadata": {
    "_cell_guid": "2efe39aa-a1d1-4d90-90f3-272b9505ce59",
    "_uuid": "8fe39856f3bdd4b7ed2603651353b0e21264c768"
   },
   "outputs": [],
   "source": [
    "df['year'] = df['year'].replace('NaT', np.nan)"
   ]
  },
  {
   "cell_type": "code",
   "execution_count": null,
   "metadata": {
    "_cell_guid": "5fbd049f-1470-4dce-aa54-6b7170a99b4f",
    "_uuid": "c65b50fc111340ad7f931b8da29572adc9e54016"
   },
   "outputs": [],
   "source": [
    "df['year'] = df['year'].apply(clean_numeric)"
   ]
  },
  {
   "cell_type": "code",
   "execution_count": null,
   "metadata": {
    "_cell_guid": "f9f40de3-2617-4aed-a50c-a0b2db62b5eb",
    "_uuid": "055de57e57ad45ec20d2b3cba1a0fd4bdfd87a31"
   },
   "outputs": [],
   "source": [
    "sns.set(font_scale=1)\n",
    "corr = df.corr()\n",
    "mask = np.zeros_like(corr)\n",
    "mask[np.triu_indices_from(mask)] = True\n",
    "with sns.axes_style(\"white\"):\n",
    "    plt.figure(figsize=(9,9))\n",
    "    ax = sns.heatmap(corr, mask=mask, vmax=.3, square=True, annot=True)"
   ]
  },
  {
   "cell_type": "code",
   "execution_count": null,
   "metadata": {
    "_cell_guid": "7ebee831-0bfa-42ee-890c-4bbe3a99bc94",
    "_uuid": "94d5180f4d076c37e49ab2ded90505de2149e62d"
   },
   "outputs": [],
   "source": [
    "sns.set(font_scale=1.25)"
   ]
  },
  {
   "cell_type": "markdown",
   "metadata": {
    "_cell_guid": "3a03df7e-351e-4f45-be7d-ca5e865e147c",
    "_uuid": "6d5589445a96444681322f4555bb18922cdb0869"
   },
   "source": [
    "### Genres"
   ]
  },
  {
   "cell_type": "code",
   "execution_count": null,
   "metadata": {
    "_cell_guid": "94698a20-8bc7-41ac-9cc0-00eb9aafdfbe",
    "_uuid": "d83d58f01d761555be287ebb1352f1111ae73730"
   },
   "outputs": [],
   "source": [
    "df['genres'] = df['genres'].fillna('[]').apply(ast.literal_eval).apply(lambda x: [i['name'] for i in x] if isinstance(x, list) else [])"
   ]
  },
  {
   "cell_type": "code",
   "execution_count": null,
   "metadata": {
    "_cell_guid": "a2932405-c766-48e5-a2a7-5a8907abf3e2",
    "_uuid": "01bfaf72bae3e4b1d7e187ba75a7d9a304e3b715"
   },
   "outputs": [],
   "source": [
    "s = df.apply(lambda x: pd.Series(x['genres']),axis=1).stack().reset_index(level=1, drop=True)\n",
    "s.name = 'genre'"
   ]
  },
  {
   "cell_type": "code",
   "execution_count": null,
   "metadata": {
    "_cell_guid": "118a8148-8110-4e0d-901c-6f0cdfd1d87c",
    "_uuid": "c7c8169ed387344d514bb97df4e7a76262cba69d"
   },
   "outputs": [],
   "source": [
    "gen_df = df.drop('genres', axis=1).join(s)"
   ]
  },
  {
   "cell_type": "code",
   "execution_count": null,
   "metadata": {
    "_cell_guid": "609338c4-4d99-4af8-aa2b-ca9478f1acf5",
    "_uuid": "01e32b9b382a186867c6cccd252435875d65ae5c"
   },
   "outputs": [],
   "source": [
    "gen_df['genre'].value_counts().shape[0]"
   ]
  },
  {
   "cell_type": "markdown",
   "metadata": {
    "_cell_guid": "7426efbc-1637-483a-95e4-62e90bb2ab48",
    "_uuid": "1fe433bcac1454c891e33948d426b35e5797faaa"
   },
   "source": [
    "TMDB defines 32 different genres for our set of 45,000 movies. Let us now have a look at the most commonly occuring genres in movies."
   ]
  },
  {
   "cell_type": "code",
   "execution_count": null,
   "metadata": {
    "_cell_guid": "ea144ea9-dfe5-42e9-9c06-37cc0e75d0bb",
    "_uuid": "56600558af3f9c273a196d48ed255c8d4a45e45c"
   },
   "outputs": [],
   "source": [
    "pop_gen = pd.DataFrame(gen_df['genre'].value_counts()).reset_index()\n",
    "pop_gen.columns = ['genre', 'movies']\n",
    "pop_gen.head(10)"
   ]
  },
  {
   "cell_type": "code",
   "execution_count": null,
   "metadata": {
    "_cell_guid": "d6e8cf4a-9990-443e-82a9-9fb2a72e9295",
    "_uuid": "0023cda126d2bda37ce5e3d7794ce6626104e802"
   },
   "outputs": [],
   "source": [
    "plt.figure(figsize=(18,8))\n",
    "sns.barplot(x='genre', y='movies', data=pop_gen.head(15))\n",
    "plt.xticks(rotation=90)\n",
    "plt.show()"
   ]
  },
  {
   "cell_type": "markdown",
   "metadata": {
    "_cell_guid": "4da19f2e-49d2-4ffd-bc9c-f1f272640e92",
    "_uuid": "14e3a537564be576b46af065bccf83895889a557"
   },
   "source": [
    "**Drama** is the most commonly occurring genre with almost half the movies identifying itself as a drama film. **Comedy** comes in at a distant second with 25% of the movies having adequate doses of humor. Other major genres represented in the top 10 are Action, Horror, Crime, Mystery, Science Fiction, Animation and Fantasy.\n",
    "\n",
    "The next question I want to answer is the trends in the share of genres of movies across the world. Has the demand for Science Fiction movies increased? Do certain years have a disproportionate share of Animation Movies? Let's find out!\n",
    "\n",
    "We will only be looking at trends starting 2000. We will consider only those themes that appear in the top 15 most popular genres. We will exclude Documentaries, Family and Foreign Movies from our analysis."
   ]
  },
  {
   "cell_type": "code",
   "execution_count": null,
   "metadata": {
    "_cell_guid": "6084dff9-f369-498d-bdaa-20b48e627048",
    "_uuid": "111c8895361f0cc786c3b66ddcd902884f700c09"
   },
   "outputs": [],
   "source": [
    "genres = ['Drama', 'Comedy', 'Thriller', 'Romance', 'Action', 'Horror', 'Crime', 'Adventure', 'Science Fiction', 'Mystery', 'Fantasy', 'Mystery', 'Animation']"
   ]
  },
  {
   "cell_type": "code",
   "execution_count": null,
   "metadata": {
    "_cell_guid": "cc468b5e-1557-4d3a-8020-85572270f1ef",
    "_uuid": "8251e9d4eef6373f8c1386a12308d8e9ed4e3a93"
   },
   "outputs": [],
   "source": [
    "pop_gen_movies = gen_df[(gen_df['genre'].isin(genres)) & (gen_df['year'] >= 2000) & (gen_df['year'] <= 2017)]\n",
    "ctab = pd.crosstab([pop_gen_movies['year']], pop_gen_movies['genre']).apply(lambda x: x/x.sum(), axis=1)\n",
    "ctab[genres].plot(kind='bar', stacked=True, colormap='jet', figsize=(12,8)).legend(loc='center left', bbox_to_anchor=(1, 0.5))\n",
    "plt.title(\"Stacked Bar Chart of Movie Proportions by Genre\")\n",
    "plt.show()"
   ]
  },
  {
   "cell_type": "code",
   "execution_count": null,
   "metadata": {
    "_cell_guid": "fb3d97ab-0d22-44e6-8402-360a9c359f4c",
    "_uuid": "960694645154b7a9674526f209d9b189b9186d68"
   },
   "outputs": [],
   "source": [
    "ctab[genres].plot(kind='line', stacked=False, colormap='jet', figsize=(12,8)).legend(loc='center left', bbox_to_anchor=(1, 0.5))\n",
    "plt.show()"
   ]
  },
  {
   "cell_type": "markdown",
   "metadata": {
    "_cell_guid": "fa486497-32b1-4a8b-a940-9016d495b66f",
    "_uuid": "4a11304077a28a13ec8af187da7f0fe23f374c37"
   },
   "source": [
    "The proportion of movies of each genre has remained fairly constant since the beginning of this century except for **Drama**. The proportion of drama films has fallen by over 5%.  **Thriller** movies have enjoyed a slight increase in their share. \n",
    "\n",
    "One question that I have always had is that if some genres are particularly more successful than others. For example, we should expect Science Fiction and Fantasy Movies to bring in more revenue than other genres but when normalized with their budget, do they prove to be as successful? We will visualize two violin plots to answer this question. One will be genres versus the revenue while the other will be versus returns."
   ]
  },
  {
   "cell_type": "code",
   "execution_count": null,
   "metadata": {
    "_cell_guid": "27c71ee8-4121-4e52-b789-3893d7d09454",
    "_uuid": "a94d5c8b2b645e2b64e297b3d68a5f18bf49a5a2"
   },
   "outputs": [],
   "source": [
    "violin_genres = ['Drama', 'Comedy', 'Thriller', 'Romance', 'Action', 'Horror', 'Crime', 'Science Fiction', 'Fantasy', 'Animation']\n",
    "violin_movies = gen_df[(gen_df['genre'].isin(violin_genres))]"
   ]
  },
  {
   "cell_type": "code",
   "execution_count": null,
   "metadata": {
    "_cell_guid": "3b2b4bed-584c-4efb-a2a4-17f630e36a29",
    "_uuid": "8bd05b44d6a42ff6d9ed1d723f2448adbc5f4720"
   },
   "outputs": [],
   "source": [
    "plt.figure(figsize=(18,8))\n",
    "fig, ax = plt.subplots(nrows=1, ncols=1,figsize=(15, 8))\n",
    "sns.boxplot(x='genre', y='revenue', data=violin_movies, palette=\"muted\", ax =ax)\n",
    "ax.set_ylim([0, 3e8])\n",
    "plt.show()"
   ]
  },
  {
   "cell_type": "markdown",
   "metadata": {
    "_cell_guid": "ed4b51d7-1a66-465c-9557-9146ae7969d1",
    "_uuid": "33773bc7ea54d28e1c1df66b0982f801eb8e8d0d"
   },
   "source": [
    "**Animation** movies has the largest 25-75 range as well as the median revenue among all the genres plotted. **Fantasy** and **Science Fiction** have the second and third highest median revenue respectively. "
   ]
  },
  {
   "cell_type": "code",
   "execution_count": null,
   "metadata": {
    "_cell_guid": "7c062b92-00b0-48a9-8336-8047bdc9a77d",
    "_uuid": "dd307dbc9edbb81a1a2bfd63e73bc85ffe73a78e"
   },
   "outputs": [],
   "source": [
    "plt.figure(figsize=(18,8))\n",
    "fig, ax = plt.subplots(nrows=1, ncols=1,figsize=(15, 8))\n",
    "sns.boxplot(x='genre', y='return', data=violin_movies, palette=\"muted\", ax =ax)\n",
    "ax.set_ylim([0, 10])\n",
    "plt.show()"
   ]
  },
  {
   "cell_type": "markdown",
   "metadata": {
    "_cell_guid": "382e87ba-6a15-46de-8fcf-5f9e703cea4c",
    "_uuid": "413bff8b5a333cbe2e71ce5a8963d908c1f9e7dc"
   },
   "source": [
    "From the boxplot, it seems like **Animation** Movies tend to yield the highest returns on average. **Horror** Movies also tend to be a good bet. This is partially due to the nature of Horror movies being low budget compared to Fantasy Movies but being capable of generating very high revenues relative to its budget."
   ]
  },
  {
   "cell_type": "markdown",
   "metadata": {
    "_cell_guid": "6516265c-18a6-4d82-808c-648d23f36a48",
    "_uuid": "e52d8ea1baab2cc86fe3df0e6be438e0f36a8598"
   },
   "source": [
    "### Cast and Crew\n",
    "\n",
    "Let us now take a look at the cast and crew of our movies. We do not have these details with us in our main dataset. However, we have a separate file consisting of the full cast and crew credits of all the Movielens Movies. Let us take a look at this credits data."
   ]
  },
  {
   "cell_type": "code",
   "execution_count": null,
   "metadata": {
    "_cell_guid": "3a782c7f-50fe-4e97-b3b9-a9622b79ba5d",
    "_uuid": "a7f0bf886859c51d5d979d73bda4dd818b385b42"
   },
   "outputs": [],
   "source": [
    "credits_df = pd.read_csv('./input/credits.csv')\n",
    "credits_df.head()"
   ]
  },
  {
   "cell_type": "markdown",
   "metadata": {
    "_cell_guid": "87f32261-32e0-49dc-8788-0d3a972c5ad2",
    "_uuid": "acaea8a3f5d2428842030e44c0b41132b4ce1b0a"
   },
   "source": [
    "#### Credits Dataset\n",
    "\n",
    "* **cast:** A stringified list of dictionaries consisting of cast names and the corresponding characters they played.\n",
    "* **crew:** A stringified list of dictionaries consisting of crew names and the function they performed.\n",
    "* **id:** The TMDB ID of movie."
   ]
  },
  {
   "cell_type": "markdown",
   "metadata": {
    "_cell_guid": "89200885-af50-44c4-a5d5-d44da6ed1e4a",
    "_uuid": "96d031c06c9605360fc0f4bd6402574a743f1df4"
   },
   "source": [
    "We need to perform a left join of our original movies metadata dataframe with the credits dataframe on the TMDB Movie ID. Before we are able to perform this join, we need to make sure that the ID column of our main dataframe is clean and of type integer. To do this, let us try to perform an integer conversion of our IDs and if an exception is raised,we will replace the ID with NaN. We will then proceed to drop these rows from our dataframe."
   ]
  },
  {
   "cell_type": "code",
   "execution_count": null,
   "metadata": {
    "_cell_guid": "16e7c562-7270-4bd7-925b-0e48ab58d439",
    "_uuid": "93886038cafd2902c760bc80763e152e745fa50d"
   },
   "outputs": [],
   "source": [
    "def convert_int(x):\n",
    "    try:\n",
    "        return int(x)\n",
    "    except:\n",
    "        return np.nan"
   ]
  },
  {
   "cell_type": "code",
   "execution_count": null,
   "metadata": {
    "_cell_guid": "a6baaf84-85b3-49f5-a8f5-10ea58748233",
    "_uuid": "80923a414911004c1469a38efc439fdf84d26b69"
   },
   "outputs": [],
   "source": [
    "df['id'] = df['id'].apply(convert_int)"
   ]
  },
  {
   "cell_type": "code",
   "execution_count": null,
   "metadata": {
    "_cell_guid": "94e59171-179e-4e8f-8d47-fef16dede5f6",
    "_uuid": "df91192eb93b8ec6696e75c903b298fce9084319"
   },
   "outputs": [],
   "source": [
    "df[df['id'].isnull()]"
   ]
  },
  {
   "cell_type": "code",
   "execution_count": null,
   "metadata": {
    "_cell_guid": "07edc375-3cdd-45e9-be1d-adc614ea8753",
    "_uuid": "1c705952d2cfd956411b544116d2e83147df8254"
   },
   "outputs": [],
   "source": [
    "df['id'] = df['id'].astype('int')"
   ]
  },
  {
   "cell_type": "code",
   "execution_count": null,
   "metadata": {
    "_cell_guid": "199e6812-207b-44ff-bf1d-d0a44bfb35c7",
    "_uuid": "e77b026d21f79c76dfb36effaf42a1c6e46ef060"
   },
   "outputs": [],
   "source": [
    "df = df.merge(credits_df, on='id')\n",
    "df.shape"
   ]
  },
  {
   "cell_type": "code",
   "execution_count": null,
   "metadata": {
    "_cell_guid": "f30fdd03-9813-4d8e-bb75-d403253c8fd2",
    "_uuid": "416abaae3611feb42076450c755cb0f430d9b4ca"
   },
   "outputs": [],
   "source": [
    "df['cast'] = df['cast'].apply(ast.literal_eval)\n",
    "df['crew'] = df['crew'].apply(ast.literal_eval)"
   ]
  },
  {
   "cell_type": "code",
   "execution_count": null,
   "metadata": {
    "_cell_guid": "1b1f628f-ce24-4a53-9a57-d8726d8ec552",
    "_uuid": "d7fb81f540ac14f4e3faf38033bb2a21d469be16"
   },
   "outputs": [],
   "source": [
    "df['cast_size'] = df['cast'].apply(lambda x: len(x))\n",
    "df['crew_size'] = df['crew'].apply(lambda x: len(x))"
   ]
  },
  {
   "cell_type": "code",
   "execution_count": null,
   "metadata": {
    "_cell_guid": "1fbf7412-b10b-4c50-8b99-986b7630328a",
    "_uuid": "8ad8b016f37e833af20698073f9ef7bf9851ef90"
   },
   "outputs": [],
   "source": [
    "df['cast'] = df['cast'].apply(lambda x: [i['name'] for i in x] if isinstance(x, list) else [])"
   ]
  },
  {
   "cell_type": "code",
   "execution_count": null,
   "metadata": {
    "_cell_guid": "dd74ded5-b351-4bf0-aec3-13f765d224f8",
    "_uuid": "00eb91290282069f443ecbf0526d8965f278c35b"
   },
   "outputs": [],
   "source": [
    "def get_director(x):\n",
    "    for i in x:\n",
    "        if i['job'] == 'Director':\n",
    "            return i['name']\n",
    "    return np.nan"
   ]
  },
  {
   "cell_type": "code",
   "execution_count": null,
   "metadata": {
    "_cell_guid": "0ff6f257-7d38-445f-8749-7ac38c2853ca",
    "_uuid": "4ce9b67217bc82664312554c10a0bac95d063984"
   },
   "outputs": [],
   "source": [
    "df['director'] = df['crew'].apply(get_director)"
   ]
  },
  {
   "cell_type": "code",
   "execution_count": null,
   "metadata": {
    "_cell_guid": "4d5dd45b-4f2b-4e4a-bfc1-83f0a513a960",
    "_uuid": "a998d3be2ac4ef644dd27a9fc372c74b25622635"
   },
   "outputs": [],
   "source": [
    "s = df.apply(lambda x: pd.Series(x['cast']),axis=1).stack().reset_index(level=1, drop=True)\n",
    "s.name = 'actor'\n",
    "cast_df = df.drop('cast', axis=1).join(s)"
   ]
  },
  {
   "cell_type": "markdown",
   "metadata": {
    "_cell_guid": "bd1fbf25-6283-418a-85c8-e7782e6b0209",
    "_uuid": "88b293571f8b89ff64421bd4fff1ac92c3c7dbd0"
   },
   "source": [
    "Let us now take a look at the actors and the directors who have raked in the most amount of money with their movies.\n",
    "\n",
    "#### Actors with the Highest Total Revenue"
   ]
  },
  {
   "cell_type": "code",
   "execution_count": null,
   "metadata": {
    "_cell_guid": "8b19befe-7ec8-4b9a-889e-2d5fffbb784c",
    "_uuid": "a06e199bb19d400a18e2e7ca006cd1e352f5e73a"
   },
   "outputs": [],
   "source": [
    "sns.set_style('whitegrid')\n",
    "plt.title('Actors with the Highest Total Revenue')\n",
    "cast_df.groupby('actor')['revenue'].sum().sort_values(ascending=False).head(10).plot(kind='bar')\n",
    "plt.show()"
   ]
  },
  {
   "cell_type": "markdown",
   "metadata": {
    "_cell_guid": "e831c9e7-20e0-4dcb-ab04-4dce27678410",
    "_uuid": "f8ade32a73a7329567f99ae785e4bed386261794"
   },
   "source": [
    "#### Directors with the Highest Total Revenue"
   ]
  },
  {
   "cell_type": "code",
   "execution_count": null,
   "metadata": {
    "_cell_guid": "18251447-63f3-4ab1-bfc2-d4d21f9bb5a0",
    "_uuid": "240847e3df5d42319aef6a184026ab5b8cbc8e86"
   },
   "outputs": [],
   "source": [
    "plt.title('Directors with the Highest Total Revenue')\n",
    "df.groupby('director')['revenue'].sum().sort_values(ascending=False).head(10).plot(kind='bar', colormap='autumn')\n",
    "plt.show()"
   ]
  },
  {
   "cell_type": "markdown",
   "metadata": {
    "_cell_guid": "afa4a9a7-4383-4bec-9e39-f2a7f8c915ca",
    "_uuid": "d0e82c71222cf01e83f5d6ff21231c40936b405d"
   },
   "source": [
    "For average revenues, we will consider only actors and directors who have acted and directed in at least 5 movies respectively."
   ]
  },
  {
   "cell_type": "code",
   "execution_count": null,
   "metadata": {},
   "outputs": [],
   "source": [
    "# t = pd.DataFrame(cast_df.groupby('actor')['revenue'].count().sort_values(ascending=False))\n",
    "# t.columns"
   ]
  },
  {
   "cell_type": "code",
   "execution_count": null,
   "metadata": {
    "_cell_guid": "db59ef96-39e2-4934-8e16-1caa924bf286",
    "_uuid": "674a16c36ad2c220d33f61544644b1965df38af9"
   },
   "outputs": [],
   "source": [
    "actor_list = cast_df.groupby('actor')['revenue'].count().sort_values(ascending=False)\n",
    "actor_list = list(actor_list[actor_list >= 5].index)\n",
    "director_list = df.groupby('director')['revenue'].count().sort_values(ascending=False)\n",
    "director_list = list(director_list[director_list >= 5].index)"
   ]
  },
  {
   "cell_type": "markdown",
   "metadata": {
    "_cell_guid": "59bc06ba-d5a6-4c93-a191-f82c6ddae8de",
    "_uuid": "586ddd9a20f82ddc34580cb4cdb7761429b467d8"
   },
   "source": [
    "#### Actors with Highest Average Revenue"
   ]
  },
  {
   "cell_type": "code",
   "execution_count": null,
   "metadata": {
    "_cell_guid": "9083a4c5-718e-4065-ada6-6ab43b734c7e",
    "_uuid": "3adc86c0618dbb0c15f122411c75e0926eecff68"
   },
   "outputs": [],
   "source": [
    "plt.title(\"Actors with Highest Average Revenue\")\n",
    "cast_df[cast_df['actor'].isin(actor_list)].groupby('actor')['revenue'].mean().sort_values(ascending=False).head(10).plot(kind='bar', colormap='Greens_r')\n",
    "plt.show()"
   ]
  },
  {
   "cell_type": "markdown",
   "metadata": {
    "_cell_guid": "db265bcc-b821-44bd-b418-895bb25011c8",
    "_uuid": "016427839b84198bb2e394b09fe414bb02023cd7"
   },
   "source": [
    "#### Directors with Highest Average Revenue"
   ]
  },
  {
   "cell_type": "code",
   "execution_count": null,
   "metadata": {
    "_cell_guid": "6ebb9851-5628-4e2e-ace6-96d915006ae4",
    "_uuid": "9b485d3ef3c5f58fb10caee19150f49852d1b84c"
   },
   "outputs": [],
   "source": [
    "plt.title(\"Directors with Highest Average Revenue\")\n",
    "df[df['director'].isin(director_list)].groupby('director')['revenue'].mean().sort_values(ascending=False).head(10).plot(kind='bar', colormap='autumn_r')\n",
    "plt.show()"
   ]
  },
  {
   "cell_type": "markdown",
   "metadata": {
    "_cell_guid": "f63a53a5-b5e2-489b-af89-04b240d911eb",
    "_uuid": "cf4fd934c6c158bf95e55fd4c1704d673b550157"
   },
   "source": [
    "Which actors and directors are the safest bet? For this, we will consider the average return brought in by a particular director or actor. We will only consider those movies that have raked in at least 10 million dollars. Also, we will only consider actors and directors that have worked in at least 5 films.\n",
    "\n",
    "#### Most Successful Actors"
   ]
  },
  {
   "cell_type": "code",
   "execution_count": null,
   "metadata": {
    "_cell_guid": "2ad48820-3701-425d-a404-38155ef853bb",
    "_uuid": "6663dc89e506f31e489bd8c7fde549e0c279f1c5"
   },
   "outputs": [],
   "source": [
    "success_df = cast_df[(cast_df['return'].notnull()) & (cast_df['revenue'] > 1e7) & (cast_df['actor'].isin(actor_list))]\n",
    "pd.DataFrame(success_df.groupby('actor')['return'].mean().sort_values(ascending=False).head(10))"
   ]
  },
  {
   "cell_type": "markdown",
   "metadata": {
    "_cell_guid": "e232feb2-92ea-40bf-bbeb-a7b694fff17e",
    "_uuid": "fb00c837abacf816a3e9eb591cad8390aa349415"
   },
   "source": [
    "#### Most Successful Directors"
   ]
  },
  {
   "cell_type": "code",
   "execution_count": null,
   "metadata": {
    "_cell_guid": "d1d8b537-939c-4873-ac8a-e755f758ac85",
    "_uuid": "da72b8a5203d8220bdcc7ddb605660a52d5d5617"
   },
   "outputs": [],
   "source": [
    "success_df = df[(df['return'].notnull()) & (df['revenue'] > 1e7) & (df['director'].isin(director_list))]\n",
    "pd.DataFrame(success_df.groupby('director')['return'].mean().sort_values(ascending=False).head(10))"
   ]
  },
  {
   "cell_type": "markdown",
   "metadata": {
    "_cell_guid": "b9cd5159-6426-4c5e-87aa-b958cad3bf68",
    "_uuid": "af1973a27c52d49e5d5236b8328b967186bd41ce"
   },
   "source": [
    "**John G. Avildsen** has an unnaturally high return. All the other directors in the list are nowhere close to the level of return that he has gained. Let us have a look at his movies."
   ]
  },
  {
   "cell_type": "code",
   "execution_count": null,
   "metadata": {
    "_cell_guid": "27124034-c57f-48ba-91c3-8fec54640e30",
    "_uuid": "aa238c14ead00dbdb39abc32a5a245cba399dee1"
   },
   "outputs": [],
   "source": [
    "df[(df['director'] == 'John G. Avildsen') & (df['return'].notnull())][['title', 'budget', 'revenue', 'return', 'year']]"
   ]
  },
  {
   "cell_type": "markdown",
   "metadata": {
    "_cell_guid": "314ceed8-466d-48d6-89eb-7e430f84e8e5",
    "_uuid": "f5d3b761b80e53d2f8032d97cf644c865d322b3a"
   },
   "source": [
    "**The Karate Kid, Part II** has a budget of only 113 dollars. This seems like an anomaly since official figures state that the movie cost **13 million dollars**. So, although he has directed amazing movies, he does not belong to this list.\n",
    "\n",
    "We will end our Exploratory Data Analysis over here. Let us use some of the insights we gained in this section and build some useful predictive models."
   ]
  },
  {
   "cell_type": "markdown",
   "metadata": {},
   "source": [
    "# Demographic Filtering"
   ]
  },
  {
   "cell_type": "markdown",
   "metadata": {},
   "source": [
    "* We need to be able to score a movie based on one or multiple features.\n",
    "* We can calculate this score for every movie\n",
    "* Select top(n) movies with the highest scores"
   ]
  },
  {
   "cell_type": "markdown",
   "metadata": {},
   "source": [
    "We can use the average ratings of the movie as the score but using this won't be fair enough since a movie with 8.9 average rating and only 3 votes cannot be considered better than the movie with 7.8 as as average rating but 40 votes. So, we will be using IMDB's weighted rating (wr) which is given as:"
   ]
  },
  {
   "cell_type": "code",
   "execution_count": null,
   "metadata": {},
   "outputs": [],
   "source": [
    "C= df['vote_average'].mean()\n",
    "C"
   ]
  },
  {
   "cell_type": "markdown",
   "metadata": {},
   "source": [
    "So, the mean rating for all the movies is approx 6 on a scale of 10.The next step is to determine an appropriate value for m, the minimum votes required to be listed in the chart. We will use 90th percentile as our cutoff. In other words, for a movie to feature in the charts, it must have more votes than at least 90% of the movies in the list."
   ]
  },
  {
   "cell_type": "code",
   "execution_count": null,
   "metadata": {},
   "outputs": [],
   "source": [
    "m = df['vote_count'].quantile(0.9)\n",
    "m"
   ]
  },
  {
   "cell_type": "markdown",
   "metadata": {},
   "source": [
    "Now, we can filter out the movies that qualify for the chart"
   ]
  },
  {
   "cell_type": "code",
   "execution_count": null,
   "metadata": {},
   "outputs": [],
   "source": [
    "q_movies = df.copy().loc[df['vote_count'] >= m]\n",
    "q_movies.shape"
   ]
  },
  {
   "cell_type": "markdown",
   "metadata": {},
   "source": [
    "We see that there are 481 movies which qualify to be in this list. Now, we need to calculate our metric for each qualified movie. To do this, we will define a function, weighted_rating() and define a new feature score, of which we'll calculate the value by applying this function to our DataFrame of qualified movies:"
   ]
  },
  {
   "cell_type": "code",
   "execution_count": null,
   "metadata": {},
   "outputs": [],
   "source": [
    "def weighted_rating(x, m=m, C=C):\n",
    "    v = x['vote_count']\n",
    "    R = x['vote_average']\n",
    "    # Calculation based on the IMDB formula\n",
    "    return (v/(v+m) * R) + (m/(m+v) * C)"
   ]
  },
  {
   "cell_type": "code",
   "execution_count": null,
   "metadata": {},
   "outputs": [],
   "source": [
    "# Define a new feature 'score' and calculate its value with `weighted_rating()`\n",
    "q_movies['score'] = q_movies.apply(weighted_rating, axis=1)"
   ]
  },
  {
   "cell_type": "markdown",
   "metadata": {},
   "source": [
    "Finally, let's sort the DataFrame based on the score feature and output the title, vote count, vote average and weighted rating or score of the top 10 movies."
   ]
  },
  {
   "cell_type": "code",
   "execution_count": null,
   "metadata": {},
   "outputs": [],
   "source": [
    "#Sort movies based on score calculated above\n",
    "q_movies = q_movies.sort_values('score', ascending=False)\n",
    "\n",
    "#Print the top 15 movies\n",
    "q_movies[['title', 'vote_count', 'vote_average', 'score']].head(10)"
   ]
  },
  {
   "cell_type": "code",
   "execution_count": null,
   "metadata": {},
   "outputs": [],
   "source": [
    "pop= df.sort_values('popularity', ascending=False)\n",
    "import matplotlib.pyplot as plt\n",
    "plt.figure(figsize=(12,4))\n",
    "\n",
    "plt.barh(pop['title'].head(6),pop['popularity'].head(6), align='center', color='skyblue')\n",
    "plt.gca().invert_yaxis()\n",
    "plt.xlabel(\"Popularity\")\n",
    "plt.title(\"Popular Movies\")"
   ]
  },
  {
   "cell_type": "markdown",
   "metadata": {},
   "source": [
    "Now something to keep in mind is that these demographic recommender provide a general chart of recommended movies to all the users. They are not sensitive to the interests and tastes of a particular user. This is when we move on to a more refined system."
   ]
  },
  {
   "cell_type": "code",
   "execution_count": null,
   "metadata": {},
   "outputs": [],
   "source": [
    "s = df.apply(lambda x: pd.Series(x['genres']),axis=1).stack().reset_index(level=1, drop=True)\n",
    "s.name = 'genre'\n",
    "gen_md = df.drop('genres', axis=1).join(s)"
   ]
  },
  {
   "cell_type": "code",
   "execution_count": null,
   "metadata": {},
   "outputs": [],
   "source": [
    "#  Convert the process into a function we can utilize later\n",
    "def demographic_movies(df, recent=False, genre='', percentile=0.9, years=10):\n",
    "    # using a time range of the last 2 years\n",
    "    if(recent == True):\n",
    "        df['release_date'] = pd.to_datetime(df['release_date'])\n",
    "        #greater than the start date and smaller than the end date\n",
    "        start_date = datetime.now() - relativedelta(years=years)\n",
    "        mask = (df['release_date'] > start_date)\n",
    "        df = df.loc[mask]\n",
    "\n",
    "    if(genre != ''):\n",
    "        df = gen_md[gen_md['genre'] == genre]\n",
    "\n",
    "    vote_counts = df[df['vote_count'].notnull()]['vote_count'].astype('int')\n",
    "    vote_averages = df[df['vote_average'].notnull()]['vote_average'].astype('int')\n",
    "    C = vote_averages.mean()\n",
    "    m = vote_counts.quantile(percentile)\n",
    "\n",
    "    q_movies = df.copy().loc[(df['vote_count'] >= m) & (df['vote_count'].notnull()) & (df['vote_average'].notnull())]\n",
    "    q_movies['vote_count'] = q_movies['vote_count'].astype('int')\n",
    "    q_movies['vote_average'] = q_movies['vote_average'].astype('int')\n",
    "    if not q_movies.empty:\n",
    "        q_movies['score'] = q_movies.apply(weighted_rating, args=(m, C), axis=1)\n",
    "        q_movies = q_movies.sort_values('score', ascending=False)\n",
    "        return q_movies\n",
    "    else:\n",
    "        return df"
   ]
  },
  {
   "cell_type": "markdown",
   "metadata": {},
   "source": [
    "## Top X (Genre) Movies"
   ]
  },
  {
   "cell_type": "code",
   "execution_count": null,
   "metadata": {},
   "outputs": [],
   "source": [
    "s = df.apply(lambda x: pd.Series(x['genres']),axis=1).stack().reset_index(level=1, drop=True)\n",
    "s.name = 'genre'\n",
    "gen_md = df.drop('genres', axis=1).join(s)"
   ]
  },
  {
   "cell_type": "code",
   "execution_count": null,
   "metadata": {},
   "outputs": [],
   "source": [
    "def weighted_rating_genre(genre, percentile=0.9):\n",
    "    df = gen_md[gen_md['genre'] == genre]\n",
    "    vote_counts = df[df['vote_count'].notnull()]['vote_count'].astype('int')\n",
    "    vote_averages = df[df['vote_average'].notnull()]['vote_average'].astype('int')\n",
    "    C = vote_averages.mean()\n",
    "    m = vote_counts.quantile(percentile)\n",
    "    \n",
    "    qualified = df[(df['vote_count'] >= m) & (df['vote_count'].notnull()) & (df['vote_average'].notnull())][['title', 'year', 'vote_count', 'vote_average', 'popularity']]\n",
    "    qualified['vote_count'] = qualified['vote_count'].astype('int')\n",
    "    qualified['vote_average'] = qualified['vote_average'].astype('int')\n",
    "    \n",
    "    qualified['weighted_rate'] = qualified.apply(lambda x: (x['vote_count']/(x['vote_count']+m) * x['vote_average']) + (m/(m+x['vote_count']) * C), axis=1)\n",
    "    qualified = qualified.sort_values('weighted_rate', ascending=False).head(250)\n",
    "    \n",
    "    return qualified"
   ]
  },
  {
   "cell_type": "code",
   "execution_count": null,
   "metadata": {},
   "outputs": [],
   "source": [
    "weighted_rating_genre('Romance').head(15)"
   ]
  },
  {
   "cell_type": "markdown",
   "metadata": {},
   "source": [
    "### Movies You May Like"
   ]
  },
  {
   "cell_type": "markdown",
   "metadata": {},
   "source": [
    "There are some movies that may not be popular and may not have such a high voting due to low popularity. We want to be able to suggest these movies to our users."
   ]
  },
  {
   "cell_type": "code",
   "execution_count": null,
   "metadata": {},
   "outputs": [],
   "source": [
    "def likeable_score(x):\n",
    "    score = x['score']\n",
    "    pop = x['popularity']\n",
    "    return score/pop"
   ]
  },
  {
   "cell_type": "code",
   "execution_count": null,
   "metadata": {},
   "outputs": [],
   "source": [
    "likeable_movies = demographic_movies(df)\n",
    "likeable_movies['score'] = likeable_movies.apply(likeable_score, axis=1)\n",
    "likeable_movies = likeable_movies.sort_values('score', ascending=False)"
   ]
  },
  {
   "cell_type": "code",
   "execution_count": null,
   "metadata": {},
   "outputs": [],
   "source": [
    "likeable_movies[['title', 'year', 'vote_count', 'vote_average', 'popularity']].head(10)"
   ]
  },
  {
   "cell_type": "code",
   "execution_count": null,
   "metadata": {},
   "outputs": [],
   "source": [
    "def likeable_movies(df):\n",
    "    likeable_movies = demographic_movies(df)\n",
    "    likeable_movies['score'] = likeable_movies.apply(likeable_score, axis=1)\n",
    "    likeable_movies = likeable_movies.sort_values('score', ascending=False)\n",
    "    return likeable_movies"
   ]
  },
  {
   "cell_type": "markdown",
   "metadata": {},
   "source": [
    "### References"
   ]
  },
  {
   "cell_type": "markdown",
   "metadata": {},
   "source": [
    "* https://www.kaggle.com/ibtesama/getting-started-with-a-movie-recommendation-system\n",
    "* https://www.kaggle.com/rounakbanik/movie-recommender-systems\n",
    "* https://www.kaggle.com/rounakbanik/the-story-of-film/\n",
    "* https://www.kaggle.com/fabiendaniel/film-recommendation-engine"
   ]
  }
 ],
 "metadata": {
  "kernelspec": {
   "display_name": "Python 3",
   "language": "python",
   "name": "python3"
  },
  "language_info": {
   "codemirror_mode": {
    "name": "ipython",
    "version": 3
   },
   "file_extension": ".py",
   "mimetype": "text/x-python",
   "name": "python",
   "nbconvert_exporter": "python",
   "pygments_lexer": "ipython3",
   "version": "3.7.6"
  }
 },
 "nbformat": 4,
 "nbformat_minor": 4
}
